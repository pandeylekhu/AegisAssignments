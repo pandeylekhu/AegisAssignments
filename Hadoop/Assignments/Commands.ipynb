Question 2:
hadoop jar $HADOOP_HOME/share/hadoop/tools/lib/hadoop-streaming-2.9.0.jar \
-file /home/hduser/mapred/WCMapper.py    -mapper WCMapper.py \
-file /home/hduser/mapred/WCReducer.py    -reducer WCReducer.py \
-input input -output output

hadoop jar $HADOOP_HOME/share/hadoop/tools/lib/hadoop-streaming-2.9.0.jar \
-mapper WCMapper.py \
-reducer WCReducer.py \
-input input -output output

hadoop fs -copyToLocal output/* .

Question 1:
hadoop fs -copyFromLocal all.csv input
hadoop fs -rm quest2/*
hadoop fs -rmdir quest2
hadoop fs -mkdir input/stock_data
hadoop fs -copyToLocal quest2/part* .
hadoop fs -copyToLocal quest1b/part* .
hadoop fs -rm quest1b/*
hadoop fs -rmdir quest1b

hadoop jar $HADOOP_HOME/share/hadoop/tools/lib/hadoop-streaming-2.9.0.jar \
-mapper GetCount_map.py \
-reducer GetCount_red.py \
-numReduceTasks 1 \
-cmdenv COMPANY_NAME='GEOMETRIC' \
-cmdenv MON_YYYY='APR-2011' \
-input input/stock_data -output quest2

hadoop jar $HADOOP_HOME/share/hadoop/tools/lib/hadoop-streaming-2.9.0.jar \

-mapper 'GetStats_map.py Wipro close' \ 
-reducer GetStats_red.py \
-numReduceTasks 1 \
-input input/stock_data -output quest1b

hadoop fs -rm quest1c/*
hadoop fs -rmdir quest1c
rm mapout/*
hadoop fs -copyToLocal quest1c/part* mapout

hadoop jar $HADOOP_HOME/share/hadoop/tools/lib/hadoop-streaming-2.9.0.jar \
-mapper 'GetNearPriceDates_map.py Wipro close' \
-reducer GetNearPriceDates_red.py \
-numReduceTasks 1 \
-input input/stock_data -output quest1c