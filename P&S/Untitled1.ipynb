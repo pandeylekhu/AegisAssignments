{
 "cells": [
  {
   "cell_type": "code",
   "execution_count": 6,
   "metadata": {},
   "outputs": [
    {
     "name": "stdout",
     "output_type": "stream",
     "text": [
      "+----+----+\n",
      "|    |    |\n",
      "|    |    |\n",
      "|    |    |\n",
      "+----+----+\n",
      "|    |    |\n",
      "|    |    |\n",
      "|    |    |\n",
      "+----+----+\n"
     ]
    }
   ],
   "source": [
    "print('+'+'-'*4+'+'+'-'*4+'+')\n",
    "print('|'+' '*4+'|'+' '*4+'|')\n",
    "print('|'+' '*4+'|'+' '*4+'|')\n",
    "print('|'+' '*4+'|'+' '*4+'|')\n",
    "print('+'+'-'*4+'+'+'-'*4+'+')\n",
    "print('|'+' '*4+'|'+' '*4+'|')\n",
    "print('|'+' '*4+'|'+' '*4+'|')\n",
    "print('|'+' '*4+'|'+' '*4+'|')\n",
    "print('+'+'-'*4+'+'+'-'*4+'+')"
   ]
  },
  {
   "cell_type": "code",
   "execution_count": 75,
   "metadata": {},
   "outputs": [],
   "source": [
    "def printboxes(r,c):\n",
    "    borders=('+'+'-'*4)*r+'+'+'\\n'#+'+'+'-'*4+'+\\n'\n",
    "    innerlines=(('|'+' '*4))*r+'|'+'\\n'#+'|'+' '*4+'|\\n')*4\n",
    "    box=borders+innerlines\n",
    "    print((borders+innerlines)*c+borders)"
   ]
  },
  {
   "cell_type": "code",
   "execution_count": 78,
   "metadata": {},
   "outputs": [
    {
     "name": "stdout",
     "output_type": "stream",
     "text": [
      "+----+----+----+----+----+----+----+----+\n",
      "|    |    |    |    |    |    |    |    |\n",
      "+----+----+----+----+----+----+----+----+\n",
      "|    |    |    |    |    |    |    |    |\n",
      "+----+----+----+----+----+----+----+----+\n",
      "|    |    |    |    |    |    |    |    |\n",
      "+----+----+----+----+----+----+----+----+\n",
      "|    |    |    |    |    |    |    |    |\n",
      "+----+----+----+----+----+----+----+----+\n",
      "|    |    |    |    |    |    |    |    |\n",
      "+----+----+----+----+----+----+----+----+\n",
      "|    |    |    |    |    |    |    |    |\n",
      "+----+----+----+----+----+----+----+----+\n",
      "|    |    |    |    |    |    |    |    |\n",
      "+----+----+----+----+----+----+----+----+\n",
      "|    |    |    |    |    |    |    |    |\n",
      "+----+----+----+----+----+----+----+----+\n",
      "\n"
     ]
    }
   ],
   "source": [
    "printboxes(8,8)"
   ]
  },
  {
   "cell_type": "code",
   "execution_count": 107,
   "metadata": {},
   "outputs": [
    {
     "data": {
      "text/plain": [
       "[('woodchuck', 3),\n",
       " ('much', 2),\n",
       " ('wood', 2),\n",
       " ('could', 2),\n",
       " ('a', 2),\n",
       " ('chuck', 2),\n",
       " ('if', 2),\n",
       " ('How', 1),\n",
       " ('wood?', 1),\n",
       " ('A', 1),\n",
       " ('you', 1),\n",
       " ('say?', 1),\n",
       " ('Not', 1),\n",
       " ('the', 1),\n",
       " ('were', 1),\n",
       " ('mahogany', 1)]"
      ]
     },
     "execution_count": 107,
     "metadata": {},
     "output_type": "execute_result"
    }
   ],
   "source": [
    "myString = \"How much wood could a woodchuck chuck if a woodchuck could chuck wood? A woodchuck you say? Not much if the wood were mahogany\"\n",
    "wordcount={}\n",
    "\n",
    "splited=myString.split()\n",
    "for x in splited:\n",
    "    if x in wordcount.keys():\n",
    "        wordcount[x]=wordcount[x]+1\n",
    "    else:\n",
    "        wordcount[x]=1\n",
    "sorted(wordcount.items(),key=lambda k: k[1],reverse=True)"
   ]
  },
  {
   "cell_type": "code",
   "execution_count": 106,
   "metadata": {},
   "outputs": [
    {
     "data": {
      "text/plain": [
       "[('woodchuck', 3),\n",
       " ('much', 2),\n",
       " ('wood', 2),\n",
       " ('could', 2),\n",
       " ('a', 2),\n",
       " ('chuck', 2),\n",
       " ('if', 2),\n",
       " ('How', 1),\n",
       " ('wood?', 1),\n",
       " ('A', 1),\n",
       " ('you', 1),\n",
       " ('say?', 1),\n",
       " ('Not', 1),\n",
       " ('the', 1),\n",
       " ('were', 1),\n",
       " ('mahogany', 1)]"
      ]
     },
     "execution_count": 106,
     "metadata": {},
     "output_type": "execute_result"
    }
   ],
   "source": []
  }
 ],
 "metadata": {
  "kernelspec": {
   "display_name": "Python 3",
   "language": "python",
   "name": "python3"
  },
  "language_info": {
   "codemirror_mode": {
    "name": "ipython",
    "version": 3
   },
   "file_extension": ".py",
   "mimetype": "text/x-python",
   "name": "python",
   "nbconvert_exporter": "python",
   "pygments_lexer": "ipython3",
   "version": "3.7.0"
  }
 },
 "nbformat": 4,
 "nbformat_minor": 2
}
