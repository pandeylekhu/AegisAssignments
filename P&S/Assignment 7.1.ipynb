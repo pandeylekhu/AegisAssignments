{
 "cells": [
  {
   "cell_type": "markdown",
   "metadata": {},
   "source": [
    "1. A sample of Alzheimer’s patients is tested to assess the amount of time in stage IV sleep. It has been hypothesized that individuals sufferering from Alzheimer's disease may spend less time per night in the deeper stages of sleep. Number of minutes spent is Stage IV sleep is recorded for sixty-one patients. The sample produced a mean of 48 minutes (S=14 minutes) of stage IV sleep over a 24 hour period of time. Compute a 95 percent confidence interval for this data. What does this information tell you about a particular individual's (an Alzheimer's patient) stage IV sleep?<br>\n",
    "<b> Answer: </b><br>\n",
    "Sample size n = 61<br>\n",
    "Mean of number of minutes spent (x bar)= 48 Minutes<br>\n",
    "Sample Standard deviation SD= 14 Minutes<br>\n",
    "Confidence Interval (1-alpha) = 95%<br>\n",
    "z value for alpha/2 is 1.96<br>"
   ]
  },
  {
   "cell_type": "code",
   "execution_count": 6,
   "metadata": {},
   "outputs": [
    {
     "data": {
      "text/plain": [
       "-2.581988897471611"
      ]
     },
     "execution_count": 6,
     "metadata": {},
     "output_type": "execute_result"
    }
   ],
   "source": [
    "import math\n",
    "-2/(3/math.sqrt(15))"
   ]
  },
  {
   "cell_type": "code",
   "execution_count": 119,
   "metadata": {
    "scrolled": true
   },
   "outputs": [
    {
     "data": {
      "text/plain": [
       "(44.48673257294102, 51.51326742705898)"
      ]
     },
     "execution_count": 119,
     "metadata": {},
     "output_type": "execute_result"
    }
   ],
   "source": [
    "import scipy.stats as stats\n",
    "stats.norm.interval(0.95,\n",
    "                 loc = 48,\n",
    "                 scale= 14/math.sqrt(61)) "
   ]
  },
  {
   "cell_type": "markdown",
   "metadata": {},
   "source": [
    "Hence, 95% Confidence Interval is between 44.49 Minutes and 51.51 Minutes.\n",
    "i.e. This tell that at stage IV an alzheimer's patient deep sleep is of 44.49 minutes to 51.51 minutes.\n",
    "Still there is 5% chance that above inference may be wrong."
   ]
  },
  {
   "cell_type": "markdown",
   "metadata": {},
   "source": [
    "2. A university wants to know more about the knowledge of students regarding international events. They are concerned that their students are uninformed in regards to new from other countries. A standardized test is used to assess students knowledge of world events (national reported mean=65, S=5). A sample of 30 students are tested (sample mean=58, Standard Error=3.2). Compute a 99 percent confidence interval based on this sample's data. How do these students compare to the national sample?<br>\n",
    "<b>Answer:</b><br>\n",
    "Sample size N=30<br>\n",
    "Sample Mean x bar=58<br>\n",
    "Standard Error=3.2<br>\n",
    "Confidence Interval=99<br>\n",
    "1-alpha=0.99"
   ]
  },
  {
   "cell_type": "code",
   "execution_count": 108,
   "metadata": {},
   "outputs": [
    {
     "data": {
      "text/plain": [
       "(49.17956510825493, 66.82043489174507)"
      ]
     },
     "execution_count": 108,
     "metadata": {},
     "output_type": "execute_result"
    }
   ],
   "source": [
    "import scipy.stats as stats\n",
    "stats.t.interval(0.99,\n",
    "                 df = 29,\n",
    "                 loc = 58,\n",
    "                 scale= 3.2) "
   ]
  },
  {
   "cell_type": "markdown",
   "metadata": {},
   "source": [
    "Hence as with 99% Confidence Interval the Students knowledge test score is between 49.18 and 66.82, which includes the National reported mean of 65. Hence even though the score of college is lower, it is still in line with other colleges across the world."
   ]
  },
  {
   "cell_type": "markdown",
   "metadata": {},
   "source": [
    "3. A sample of students from an introductory psychology class were polled regarding the number of hours they spent studying for the last exam. All students anonymously submitted the number of hours on a 3 by 5 card. There were 24 individuals in the one section of the course polled. The data was used to make inferences regarding the other students taking the course. There data are below:<br>\n",
    "Compute a 95 percent confidence interval. What does this tell us?<br>\n",
    "<table>\n",
    "    <tr>\n",
    "        <td>4.5</td>\n",
    "        <td>22</td>\n",
    "        <td>7</td>\n",
    "        <td>14.5</td>\n",
    "        <td>9</td>\n",
    "        <td>9</td>\n",
    "        <td>3.5</td>\n",
    "        <td>8</td>\n",
    "        <td>11</td>\n",
    "        <td>7.5</td>\n",
    "        <td>18</td>\n",
    "        <td>20</td>\n",
    "    </tr>\n",
    "    <tr>\n",
    "        <td>7.5</td>\n",
    "        <td>9</td>\n",
    "        <td>10.5</td>\n",
    "        <td>15</td>\n",
    "        <td>19</td>\n",
    "        <td>2.5</td>\n",
    "        <td>5</td>\n",
    "        <td>9</td>\n",
    "        <td>8.5</td>\n",
    "        <td>14</td>\n",
    "        <td>20</td>\n",
    "        <td>8</td>\n",
    "    </tr>\n",
    "</table>"
   ]
  },
  {
   "cell_type": "code",
   "execution_count": 129,
   "metadata": {},
   "outputs": [
    {
     "name": "stdout",
     "output_type": "stream",
     "text": [
      "Mean Time: 10.916666666666666 \n",
      "Standard Daviation: 5.480394349152461 \n",
      "Standard Error 1.142741216515229\n"
     ]
    },
    {
     "data": {
      "text/plain": [
       "(8.55816471358783, 13.275168619745502)"
      ]
     },
     "execution_count": 129,
     "metadata": {},
     "output_type": "execute_result"
    }
   ],
   "source": [
    "import numpy as np\n",
    "import scipy.stats as stats\n",
    "\n",
    "studentsData=np.array([4.5,22,7,14.5,9,9,3.5,8,11,7.5,18,20,7.5,9,10.5,15,19,2.5,5,9,8.5,14,20,8])\n",
    "print('Mean Time:',studentsData.mean(),'\\nStandard Daviation:',studentsData.std(),'\\nStandard Error',scipy.stats.sem(studentsData))\n",
    "stats.t.interval(0.95,\n",
    "                 df = 24,\n",
    "                 loc = studentsData.mean(),\n",
    "                 scale= scipy.stats.sem(studentsData)) "
   ]
  },
  {
   "cell_type": "markdown",
   "metadata": {},
   "source": [
    "Hence the confidence interval for the data is between 8.56 hours and 13.27 hours.\n",
    "Means we are 95% sure that on an average students spents 8.56 hours to 13.27 hours for the last exams."
   ]
  }
 ],
 "metadata": {
  "kernelspec": {
   "display_name": "Python 3",
   "language": "python",
   "name": "python3"
  },
  "language_info": {
   "codemirror_mode": {
    "name": "ipython",
    "version": 3
   },
   "file_extension": ".py",
   "mimetype": "text/x-python",
   "name": "python",
   "nbconvert_exporter": "python",
   "pygments_lexer": "ipython3",
   "version": "3.7.0"
  }
 },
 "nbformat": 4,
 "nbformat_minor": 2
}
