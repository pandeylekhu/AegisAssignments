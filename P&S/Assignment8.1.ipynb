{
 "cells": [
  {
   "cell_type": "code",
   "execution_count": 2,
   "metadata": {},
   "outputs": [],
   "source": [
    "def getconfidenceInterval(xbar,ybar,xsize,ysize,xsd,ysd,ci):\n",
    "    import scipy.stats as stats\n",
    "    import numpy as np\n",
    "    \n",
    "    if xsize>30 and ysize>30:\n",
    "        print('Using Z value')\n",
    "        print(stats.norm.interval(ci,loc = np.abs(xbar-ybar),scale= np.sqrt((xsd**2/xsize)+(ysd**2/ysize))))\n",
    "    else:\n",
    "        print('Using T value')\n",
    "        print(stats.t.interval(ci,df=np.abs(xsize+ysize-1),loc = np.abs(xbar-ybar),scale= np.sqrt((xsd**2/xsize)+(ysd**2/ysize)) ))"
   ]
  },
  {
   "cell_type": "markdown",
   "metadata": {},
   "source": [
    "answer for question1"
   ]
  },
  {
   "cell_type": "code",
   "execution_count": 40,
   "metadata": {},
   "outputs": [
    {
     "name": "stdout",
     "output_type": "stream",
     "text": [
      "Using Z value\n",
      "(4.617942772320079, 5.382057227679921)\n"
     ]
    }
   ],
   "source": [
    "getconfidenceInterval(20,15,500,1000,3,2,0.99)"
   ]
  },
  {
   "cell_type": "markdown",
   "metadata": {},
   "source": [
    "answer for question2"
   ]
  },
  {
   "cell_type": "code",
   "execution_count": 3,
   "metadata": {},
   "outputs": [
    {
     "name": "stdout",
     "output_type": "stream",
     "text": [
      "Using T value\n",
      "(-5.354638153619398, 105.35463787323039)\n"
     ]
    }
   ],
   "source": [
    "getconfidenceInterval(1000,950,15,20,100,90,0.90)"
   ]
  },
  {
   "cell_type": "markdown",
   "metadata": {},
   "source": [
    "Answe for question 3"
   ]
  },
  {
   "cell_type": "code",
   "execution_count": 2,
   "metadata": {},
   "outputs": [
    {
     "name": "stdout",
     "output_type": "stream",
     "text": [
      "(0.43347803965665793, 7.026084708199053)\n"
     ]
    }
   ],
   "source": [
    "import scipy.stats as stats\n",
    "import numpy as np\n",
    "print(stats.f.interval(0.95,dfn=9,dfd=9,scale= 2.51**2/1.90**2))"
   ]
  },
  {
   "cell_type": "code",
   "execution_count": null,
   "metadata": {},
   "outputs": [],
   "source": []
  }
 ],
 "metadata": {
  "kernelspec": {
   "display_name": "Python 3",
   "language": "python",
   "name": "python3"
  },
  "language_info": {
   "codemirror_mode": {
    "name": "ipython",
    "version": 3
   },
   "file_extension": ".py",
   "mimetype": "text/x-python",
   "name": "python",
   "nbconvert_exporter": "python",
   "pygments_lexer": "ipython3",
   "version": "3.7.0"
  }
 },
 "nbformat": 4,
 "nbformat_minor": 2
}
