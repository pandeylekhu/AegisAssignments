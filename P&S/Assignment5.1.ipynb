{
 "cells": [
  {
   "cell_type": "markdown",
   "metadata": {},
   "source": [
    "1.\tHospital records show that of patients suffering from a certain disease, 75% die of it. What is the probability that of 6 randomly selected patients, 4 will recover?"
   ]
  },
  {
   "cell_type": "markdown",
   "metadata": {},
   "source": [
    "Answer: As there is either of two outcome, i.e either the patient will recover or die of disease, this is binomial distribution problem. Where Probability of people die is 0.75 and recovery is 0.25.<br>\n",
    "Hence using formula P(X)=combination(n,x)*p^x *(1-p)^n-x.<br>\n",
    "where<br>\n",
    "k is number of people surving = 4<br>\n",
    "n total number of people selected = 6<br>\n",
    "p=probability of people survining.<br>"
   ]
  },
  {
   "cell_type": "code",
   "execution_count": 63,
   "metadata": {},
   "outputs": [
    {
     "name": "stdout",
     "output_type": "stream",
     "text": [
      "ANSWER:\n",
      "Probability of 4 people out 6 selected surviving is 0.032958984375\n"
     ]
    }
   ],
   "source": [
    "from scipy.stats import binom\n",
    "n,p,x=6,0.25,4\n",
    "pmass = binom(n, p)\n",
    "print('ANSWER:')\n",
    "#probability mass of 4\n",
    "print('Probability of 4 people out 6 selected surviving is',pmass.pmf(x))"
   ]
  },
  {
   "cell_type": "markdown",
   "metadata": {},
   "source": [
    "2.\tA manufacturer of metal pistons finds that on the average, 12% of his pistons are rejected because they are either oversize or undersize. What is the probability that a batch of 10 pistons will contain (a) no more than 2 rejects? (b) at least 2 rejects?<br>\n",
    "<b>Answer</b>: <pre>Here X is the num of rejected pistons.\n",
    "Considering rejection of piston as success event p=0.12\n",
    "Hence using formula <i>P(X)=combination(n,x)*p^x *(1-p)^n-x</i>\n",
    "Where\n",
    "number of piston's selected (n)=10\n",
    "probability of piston getting rejected (p)=0.12\n",
    "(a) no more than 2 rejects?\n",
    "here, we need to find P(X<=2), i.e P(0)+P(1)+P(2)\n",
    "(b) at least 2 rejects?\n",
    "here, we need to find P(X>=2) i.e 1-(P(0)+P(1))</pre>"
   ]
  },
  {
   "cell_type": "code",
   "execution_count": 64,
   "metadata": {},
   "outputs": [
    {
     "name": "stdout",
     "output_type": "stream",
     "text": [
      "ANSWER:\n",
      "Probability of no more than 2 rejected piston is 0.8913182062780246\n",
      "Probability of at least 2 rejected piston is 0.34172496579595857\n"
     ]
    }
   ],
   "source": [
    "from scipy.stats import binom\n",
    "n,p,x=10,0.12,2\n",
    "pmass = binom(n, p)\n",
    "print('ANSWER:')\n",
    "#Cumulative probabilty of 2\n",
    "print('Probability of no more than 2 rejected piston is',pmass.cdf(2))\n",
    "#1 minus Cumulative probabilty of 1\n",
    "print('Probability of at least 2 rejected piston is',1-pmass.cdf(1))"
   ]
  },
  {
   "cell_type": "markdown",
   "metadata": {},
   "source": [
    "3.\tA man was able to complete 3 files a day on an average. Find the probability that he can complete 5 files the next day.<br>\n",
    "<b>Answer:</b>\n",
    "<pre>\n",
    "    Here, the experiment is to complete n number of files per day.\n",
    "    Hence this is a poisson experiment.\n",
    "    Using poisson distribution's Probability Mass Function,\n",
    "        P(x|u)=e^(-u)*(u^x/x! where x=0,1,2,3,4,5,6,.........\n",
    "    Hence,\n",
    "          as man can complete 3 files per day (u)=3\n",
    "          we need probability that he can complete 5 files tommorrow i.e x=5</pre>"
   ]
  },
  {
   "cell_type": "code",
   "execution_count": 8,
   "metadata": {},
   "outputs": [
    {
     "name": "stdout",
     "output_type": "stream",
     "text": [
      "ANSWER:\n",
      "Probability that a man can complete 5 files next day is 0.23810330555354436\n"
     ]
    }
   ],
   "source": [
    "from scipy.stats import poisson\n",
    "u,x=4,2\n",
    "print('ANSWER:')\n",
    "#probability mass of 5\n",
    "print('Probability that a man can complete 5 files next day is',poisson(u).cdf(x))"
   ]
  },
  {
   "cell_type": "markdown",
   "metadata": {},
   "source": [
    "4. The average number of homes sold by the Acme Realty Company is 2 homes per day. What is the probability that exactly 3 homes will be sold tomorrow?<br>\n",
    "<b>Answer:</b>\n",
    "<pre>\n",
    "    Here, the experiment is to sell n number homes per day.\n",
    "    Hence this is a poisson experiment.\n",
    "    Using poisson distribution's Probability Mass distribution Function,\n",
    "        P(x|u)=summation(i=0 to x) of e^(-u)*(u^x/x! where x=0,1,2,3,4,5,6,.........\n",
    "    Hence,\n",
    "          average number of homes sold per day by the company is 2 i.e mean u=2\n",
    "          we need probability that company will sell exactly 3 homes tommorrow i.e x=3</pre>"
   ]
  },
  {
   "cell_type": "code",
   "execution_count": 66,
   "metadata": {},
   "outputs": [
    {
     "name": "stdout",
     "output_type": "stream",
     "text": [
      "ANSWER:\n",
      "Probability that company will sell exactly 3 homes tommorrow is 0.18044704431548356\n"
     ]
    }
   ],
   "source": [
    "from scipy.stats import poisson\n",
    "u,x=2,3\n",
    "print('ANSWER:')\n",
    "#probability mass of 3\n",
    "print('Probability that company will sell exactly 3 homes tommorrow is',poisson(u).pmf(x))"
   ]
  },
  {
   "cell_type": "markdown",
   "metadata": {},
   "source": [
    "5.\tThe average speed of a car is 65 kmph with a standard deviation of 4. Find the probability that the speed is less than 60 kmph<br>\n",
    "<b>Answer:</b>\n",
    "<pre>As speed of the car is normal distribution experiment.\n",
    "    we will use normal distribution function,\n",
    "    where,\n",
    "       Average speed of car is mean u=65\n",
    "       standard deviation s=4\n",
    "       Expected speed x<60 </pre>"
   ]
  },
  {
   "cell_type": "code",
   "execution_count": 67,
   "metadata": {},
   "outputs": [
    {
     "name": "stdout",
     "output_type": "stream",
     "text": [
      "ANSWER:\n",
      "Probability of speed less the 60 kmph is 0.10564977366685535\n"
     ]
    }
   ],
   "source": [
    "from scipy.stats import norm\n",
    "u,s,x=65,4,60\n",
    "print('ANSWER:')\n",
    "#cumulative probability of speed 60\n",
    "print('Probability of speed less the 60 kmph is',norm.cdf(x,u,s))"
   ]
  },
  {
   "cell_type": "markdown",
   "metadata": {},
   "source": [
    "6.\tThe average score of a statistics test for a class is 85 and standard deviation is 10. Find the probability of a random score falling between 75 and 95.<br>\n",
    "<b>Answer:</b>\n",
    "<pre>As score of students is normal distribution experiment.\n",
    "    we will use normal distribution function,\n",
    "    where,\n",
    "       Average score is mean u=85\n",
    "       standard deviation s=10\n",
    "       Expected is the probability of score falling between 75 and 95\n",
    "       i.e P(75&lt;score&lt;95)</pre>"
   ]
  },
  {
   "cell_type": "code",
   "execution_count": 68,
   "metadata": {},
   "outputs": [
    {
     "name": "stdout",
     "output_type": "stream",
     "text": [
      "ANSWER:\n",
      "Probability of random score falling between 75 & 85 is 0.6826894921370859\n"
     ]
    }
   ],
   "source": [
    "from scipy.stats import norm\n",
    "u,s=85,10\n",
    "mx,mn=95,75\n",
    "print('ANSWER:')\n",
    "#cumulative probability of 95 minus the cumulative probability of 75\n",
    "print('Probability of random score falling between 75 & 85 is',norm.cdf(mx,u,s)-norm.cdf(mn,u,s))"
   ]
  },
  {
   "cell_type": "markdown",
   "metadata": {},
   "source": [
    "7.\tSuppose we know that the birth weight of babies is Normally distributed with mean 3500g and standard deviation 500g. What is the probability that a baby is born that weighs less than 3100g?<br>\n",
    "<b>Answer:</b>\n",
    "<pre>As birth weight of babies is Normally distributed.\n",
    "    we will use normal distribution function,\n",
    "    where,\n",
    "       Average weight is mean u=3500g\n",
    "       standard deviation s=500g\n",
    "       Expected is the probability of weight less than 3100\n",
    "       i.e P(weight &lt; 3100)</pre>"
   ]
  },
  {
   "cell_type": "code",
   "execution_count": 69,
   "metadata": {},
   "outputs": [
    {
     "name": "stdout",
     "output_type": "stream",
     "text": [
      "ANSWER:\n",
      "Probability that a baby is born that weighs less than 3100g is 0.2118553985833967\n"
     ]
    }
   ],
   "source": [
    "from scipy.stats import norm\n",
    "u,s=3500,500\n",
    "print('ANSWER:')\n",
    "#cumulative probability of 3100 \n",
    "print('Probability that a baby is born that weighs less than 3100g is',norm.cdf(3100,u,s))"
   ]
  },
  {
   "cell_type": "code",
   "execution_count": null,
   "metadata": {},
   "outputs": [],
   "source": []
  }
 ],
 "metadata": {
  "kernelspec": {
   "display_name": "Python 3",
   "language": "python",
   "name": "python3"
  },
  "language_info": {
   "codemirror_mode": {
    "name": "ipython",
    "version": 3
   },
   "file_extension": ".py",
   "mimetype": "text/x-python",
   "name": "python",
   "nbconvert_exporter": "python",
   "pygments_lexer": "ipython3",
   "version": "3.7.0"
  }
 },
 "nbformat": 4,
 "nbformat_minor": 2
}
