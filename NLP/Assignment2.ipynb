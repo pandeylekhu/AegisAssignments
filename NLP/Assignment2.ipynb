{
 "cells": [
  {
   "cell_type": "code",
   "execution_count": 385,
   "metadata": {},
   "outputs": [],
   "source": [
    "import nltk\n",
    "from nltk.corpus import brown\n",
    "from nltk import word_tokenize\n",
    "from nltk.util import ngrams\n",
    "from nltk.corpus import stopwords\n",
    "from string import punctuation"
   ]
  },
  {
   "cell_type": "code",
   "execution_count": 386,
   "metadata": {},
   "outputs": [],
   "source": [
    "def change_dual_words(word):\n",
    "    first=''\n",
    "    second=''\n",
    "    def get_correct_word(w):\n",
    "        if w==\"sha\":\n",
    "            return(\"shall\")\n",
    "        elif w==\"wo\":\n",
    "            return(\"will\")\n",
    "        else:\n",
    "            return(w)\n",
    "    word=word.lower()\n",
    "    if word.endswith(\"n't\"):\n",
    "        first=get_correct_word(word[:word.index(\"n't\")])\n",
    "        second=\"not\"\n",
    "    elif word.endswith(\"'ll\"):\n",
    "        first=get_correct_word(word[:word.index(\"'ll\")])\n",
    "        second=\"will\"\n",
    "    elif word.endswith(\"'ve\"):\n",
    "        first=get_correct_word(word[:word.index(\"'ve\")])\n",
    "        second=\"have\"\n",
    "    elif word.endswith(\"'re\"):\n",
    "        first=get_correct_word(word[:word.index(\"'re\")])\n",
    "        second=\"are\"\n",
    "    elif word.endswith(\"'d\"):\n",
    "        first=get_correct_word(word[:word.index(\"'d\")])\n",
    "        second=\"did\"\n",
    "    elif word.endswith(\"'s\"):\n",
    "        first=get_correct_word(word[:word.index(\"'s\")])\n",
    "        second=\"is\"\n",
    "    else:\n",
    "        first=word\n",
    "        second=\"<allclear>\"\n",
    "    return((first,second))"
   ]
  },
  {
   "cell_type": "code",
   "execution_count": 406,
   "metadata": {},
   "outputs": [],
   "source": [
    "def clean_corpus(word_lst):\n",
    "    processed_lst=['<s>']\n",
    "    for idx in range(0,len(word_lst)):\n",
    "        if word_lst[idx] in ('.','?','!'):\n",
    "#             processed_lst.append(word_lst[idx].lower())\n",
    "            processed_lst.append('</s>')\n",
    "            processed_lst.append('<s>')\n",
    "        else:\n",
    "            if word_lst[idx] not in punctuation:\n",
    "                dual_words=change_dual_words(word_lst[idx].lower())\n",
    "                if dual_words[1]=='<allclear>':\n",
    "                    processed_lst.append(dual_words[0])\n",
    "                else:\n",
    "                    processed_lst.append(dual_words[0])\n",
    "                    processed_lst.append(dual_words[1])\n",
    "#     processed_lst.append('</s>')\n",
    "    return(processed_lst)"
   ]
  },
  {
   "cell_type": "code",
   "execution_count": 491,
   "metadata": {},
   "outputs": [],
   "source": [
    "bcorp_words=brown.words()\n",
    "bcorp_words_cln=clean_corpus(bcorp_words)\n",
    "bcorp_tot_words=len(bcorp_words_cln)\n",
    "bcorp_freq_dist=nltk.FreqDist(word for word in bcorp_words_cln)\n",
    "bigrams = ngrams(bcorp_words_cln,2)\n",
    "# bcorp_bifreq_dist = nltk.ConditionalFreqDist(bigrams)\n",
    "bcorp_bifreq_dist = nltk.FreqDist(bigrams)\n",
    "trigrams = ngrams(bcorp_words_cln,3)\n",
    "bcorp_trifreq_dist = nltk.FreqDist(trigrams)"
   ]
  },
  {
   "cell_type": "code",
   "execution_count": 523,
   "metadata": {},
   "outputs": [],
   "source": [
    "def unigram_prob(word):\n",
    "    try:\n",
    "        return bcorp_freq_dist[word]/bcorp_tot_words\n",
    "    except ZeroDivisionError as ze:\n",
    "        return 0"
   ]
  },
  {
   "cell_type": "code",
   "execution_count": 524,
   "metadata": {},
   "outputs": [],
   "source": [
    "def bigram_prob(bigram): \n",
    "#     print(bigram,bigram[0])\n",
    "    try:\n",
    "        return bcorp_bifreq_dist[bigram]/bcorp_freq_dist[bigram[0]]\n",
    "    except ZeroDivisionError as ze:\n",
    "        return 0"
   ]
  },
  {
   "cell_type": "code",
   "execution_count": 535,
   "metadata": {},
   "outputs": [],
   "source": [
    "def trigram_prob(trigram): \n",
    "    try:\n",
    "#         print(trigram,trigram[:2])\n",
    "        return(bcorp_trifreq_dist[trigram]/bcorp_bifreq_dist[trigram[:2]])\n",
    "    except ZeroDivisionError as ze:\n",
    "        return 0"
   ]
  },
  {
   "cell_type": "code",
   "execution_count": 536,
   "metadata": {},
   "outputs": [],
   "source": [
    "def get_sentence_prob(sentence):\n",
    "    word_tokens=nltk.word_tokenize(sentence)\n",
    "    word_lst=clean_corpus(word_tokens)\n",
    "#     print(word_lst)\n",
    "    sents_bigrams = ngrams(word_lst,2)\n",
    "#     for x in sents_bigrams:print(x)\n",
    "#     bigram_probs=[bigram_prob(gram) if bigram_prob(gram)!=0 else 1 for gram in sents_bigrams]\n",
    "    bigram_probs=[0.8*bigram_prob(gram)+0.2*unigram_prob(gram[1]) for gram in sents_bigrams]\n",
    "#     print(bigram_probs)\n",
    "    prob=bigram_probs[0]\n",
    "    for idx in range(1,len(bigram_probs)):\n",
    "        prob=prob*bigram_probs[idx]\n",
    "    print('Bigram Probabiltiy of sentense is %1.50f'%prob)\n",
    "    \n",
    "    sents_trigrams = ngrams(word_lst,3)\n",
    "    trigram_probs=[0.6*trigram_prob(gram)+0.3*bigram_prob(gram[1:])+0.1*unigram_prob(gram[2]) for gram in sents_trigrams]\n",
    "#     print(trigram_probs)\n",
    "    prob=trigram_probs[0]\n",
    "    for idx in range(1,len(trigram_probs)):\n",
    "        prob=prob*trigram_probs[idx]\n",
    "        \n",
    "    print('Trigram Probabiltiy of sentense is %1.50f'%prob)\n",
    "#     return(\"%1.10f\"%(prob))"
   ]
  },
  {
   "cell_type": "code",
   "execution_count": 537,
   "metadata": {},
   "outputs": [
    {
     "name": "stdout",
     "output_type": "stream",
     "text": [
      "Bigram Probabiltiy of sentense is 0.00000000000000252612273714125053038671592814901338\n",
      "Trigram Probabiltiy of sentense is 0.00000006762011110903911873149543755243118248188239\n"
     ]
    }
   ],
   "source": [
    "# get_sentence_prob('The jury further said in term-end presentments that the City Executive Committee which had over-all charge of the election deserves the praise and thanks of the City of Atlanta for the manner in which the election was conducted')\n",
    "get_sentence_prob('The jury further said in term-end')"
   ]
  },
  {
   "cell_type": "code",
   "execution_count": 463,
   "metadata": {},
   "outputs": [],
   "source": [
    "# 0.00000014153932978946989512764541817302355042329509\n",
    "# 0.000000000234795896286408613828\n",
    "# 0.000000000337864025877416325668\n",
    "# 0.000000000391489835738799516328"
   ]
  },
  {
   "cell_type": "code",
   "execution_count": null,
   "metadata": {},
   "outputs": [],
   "source": []
  }
 ],
 "metadata": {
  "kernelspec": {
   "display_name": "Python 3",
   "language": "python",
   "name": "python3"
  },
  "language_info": {
   "codemirror_mode": {
    "name": "ipython",
    "version": 3
   },
   "file_extension": ".py",
   "mimetype": "text/x-python",
   "name": "python",
   "nbconvert_exporter": "python",
   "pygments_lexer": "ipython3",
   "version": "3.7.3"
  }
 },
 "nbformat": 4,
 "nbformat_minor": 2
}
