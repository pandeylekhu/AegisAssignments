{
 "cells": [
  {
   "cell_type": "code",
   "execution_count": 380,
   "metadata": {},
   "outputs": [],
   "source": [
    "import numpy as np\n",
    "import pandas as pd\n",
    "from sklearn.preprocessing import LabelBinarizer\n",
    "from sklearn.preprocessing import LabelEncoder\n",
    "from sklearn.preprocessing import OrdinalEncoder\n",
    "gender_lb = LabelBinarizer()\n",
    "married_le = LabelEncoder()\n",
    "edu_le = LabelEncoder()\n",
    "se_le = LabelEncoder()\n",
    "parea_lb = LabelBinarizer()\n",
    "ls_lp=LabelEncoder()"
   ]
  },
  {
   "cell_type": "code",
   "execution_count": 381,
   "metadata": {},
   "outputs": [],
   "source": [
    "def impute_data(loan_data):\n",
    "    loan_data.Gender=loan_data.Gender.fillna('Unknown')\n",
    "    loan_data.Married=loan_data.Married.fillna('Yes')#Mostly married people are the once to apply for \n",
    "    loan_data.Dependents=loan_data.Dependents.replace('3+','3').fillna('2')#Considering Hum do Humare do.\n",
    "    loan_data.Self_Employed=loan_data.Self_Employed.fillna('No')#considering most ppl applying for loan are salaried.\n",
    "    loan_data.loc[pd.isnull(loan_data.LoanAmount),'LoanAmount']=((loan_data.ApplicantIncome+loan_data.CoapplicantIncome)/1000)*60#Amount which applied most number of times\n",
    "    loan_data.loc[pd.isnull(loan_data.Loan_Amount_Term),'Loan_Amount_Term']=round((loan_data.LoanAmount*1000)/((loan_data.ApplicantIncome+loan_data.CoapplicantIncome)*0.15))#Considering around 20% of income will be spend on emi\n",
    "    loan_data.Credit_History=loan_data.Credit_History.fillna(1.0)#be positive trust the customer\n",
    "    return loan_data"
   ]
  },
  {
   "cell_type": "code",
   "execution_count": 382,
   "metadata": {},
   "outputs": [],
   "source": [
    "def transform_data(loan_data,rev=False):\n",
    "    global loan_data_loan_id\n",
    "    if rev==False:\n",
    "        loan_data=pd.concat([loan_data,pd.DataFrame(gender_lb.fit_transform(loan_data.Gender),columns=gender_lb.__dict__['classes_']).reset_index(drop=True)],axis=1)\n",
    "        loan_data.Married=married_le.fit_transform(loan_data.Married)\n",
    "        loan_data.Education=edu_le.fit_transform(loan_data.Education)\n",
    "        if loan_data.columns.contains('Loan_Status'):\n",
    "            loan_data.Loan_Status=ls_lp.fit_transform(loan_data.Loan_Status)\n",
    "        loan_data.Self_Employed=se_le.fit_transform(loan_data.Self_Employed)\n",
    "        loan_data=pd.concat([loan_data,pd.DataFrame(parea_lb.fit_transform(loan_data.Property_Area),columns=parea_lb.__dict__['classes_']).reset_index(drop=True)],axis=1)\n",
    "        loan_data_loan_id=loan_data['Loan_ID']\n",
    "        loan_data.drop(['Property_Area','Gender','Loan_ID'],axis=1,inplace=True)\n",
    "    else:\n",
    "        loan_data=pd.concat([loan_data,pd.DataFrame(gender_lb.inverse_transform(loan_data[gender_lb.__dict__['classes_']].values),columns=['Gender']).reset_index(drop=True)],axis=1)\n",
    "        loan_data.Married=married_le.inverse_transform(loan_data.Married)\n",
    "        loan_data.Education=edu_le.inverse_transform(loan_data.Education)\n",
    "        loan_data.Loan_Status=ls_lp.inverse_transform(loan_data.Loan_Status)\n",
    "        loan_data.Self_Employed=se_le.inverse_transform(loan_data.Self_Employed)\n",
    "        loan_data=pd.concat([loan_data,pd.DataFrame(parea_lb.inverse_transform(loan_data[parea_lb.__dict__['classes_']].values),columns=['Property_Area']).reset_index(drop=True)],axis=1)\n",
    "        loan_data.drop(gender_lb.__dict__['classes_'].tolist()+parea_lb.__dict__['classes_'].tolist(),axis=1,inplace=True)\n",
    "        loan_data=pd.concat([loan_data,pd.DataFrame(loan_data_loan_id,columns=['Loan_ID']).reset_index(drop=True)],axis=1)\n",
    "    return loan_data"
   ]
  },
  {
   "cell_type": "code",
   "execution_count": 468,
   "metadata": {},
   "outputs": [],
   "source": [
    "loan_data_train = pd.read_csv('train_u6lujuX_CVtuZ9i.csv')"
   ]
  },
  {
   "cell_type": "code",
   "execution_count": 469,
   "metadata": {},
   "outputs": [],
   "source": [
    "loan_data_train=impute_data(loan_data_train)\n",
    "loan_data_train=transform_data(loan_data_train)"
   ]
  },
  {
   "cell_type": "code",
   "execution_count": 485,
   "metadata": {},
   "outputs": [
    {
     "name": "stderr",
     "output_type": "stream",
     "text": [
      "C:\\ProgramData\\Anaconda3\\lib\\site-packages\\sklearn\\preprocessing\\data.py:645: DataConversionWarning: Data with input dtype int32, int64, float64, object were all converted to float64 by StandardScaler.\n",
      "  return self.partial_fit(X, y)\n",
      "C:\\ProgramData\\Anaconda3\\lib\\site-packages\\sklearn\\base.py:464: DataConversionWarning: Data with input dtype int32, int64, float64, object were all converted to float64 by StandardScaler.\n",
      "  return self.fit(X, **fit_params).transform(X)\n"
     ]
    }
   ],
   "source": [
    "X = loan_data_train.drop(['Loan_Status'],axis=1)\n",
    "y = loan_data_train['Loan_Status']\n",
    "from sklearn.preprocessing import StandardScaler\n",
    "ss = StandardScaler()\n",
    "X_std = ss.fit_transform(X)\n",
    "# from sklearn.preprocessing import PolynomialFeatures\n",
    "# pf=PolynomialFeatures(2)\n",
    "# X_Poly=pf.fit_transform(X_std)\n",
    "from sklearn.model_selection import train_test_split\n",
    "xtrain,xtest,ytrain,ytest=train_test_split(X_std,y,test_size=0.25,random_state=0)"
   ]
  },
  {
   "cell_type": "code",
   "execution_count": 486,
   "metadata": {},
   "outputs": [
    {
     "name": "stderr",
     "output_type": "stream",
     "text": [
      "C:\\ProgramData\\Anaconda3\\lib\\site-packages\\sklearn\\linear_model\\logistic.py:433: FutureWarning: Default solver will be changed to 'lbfgs' in 0.22. Specify a solver to silence this warning.\n",
      "  FutureWarning)\n"
     ]
    }
   ],
   "source": [
    "from sklearn.linear_model import LogisticRegression\n",
    "logreg = LogisticRegression()\n",
    "logreg.fit(xtrain,ytrain)\n",
    "preds = logreg.predict(xtrain)\n",
    "testpreds = logreg.predict(xtest)\n",
    "predp = logreg.predict_proba(xtrain)"
   ]
  },
  {
   "cell_type": "code",
   "execution_count": 487,
   "metadata": {},
   "outputs": [
    {
     "data": {
      "text/html": [
       "<div>\n",
       "<style scoped>\n",
       "    .dataframe tbody tr th:only-of-type {\n",
       "        vertical-align: middle;\n",
       "    }\n",
       "\n",
       "    .dataframe tbody tr th {\n",
       "        vertical-align: top;\n",
       "    }\n",
       "\n",
       "    .dataframe thead th {\n",
       "        text-align: right;\n",
       "    }\n",
       "</style>\n",
       "<table border=\"1\" class=\"dataframe\">\n",
       "  <thead>\n",
       "    <tr style=\"text-align: right;\">\n",
       "      <th></th>\n",
       "      <th>accuracy</th>\n",
       "      <th>recall</th>\n",
       "      <th>precision</th>\n",
       "      <th>roc_auc_score</th>\n",
       "    </tr>\n",
       "  </thead>\n",
       "  <tbody>\n",
       "    <tr>\n",
       "      <th>trainScores</th>\n",
       "      <td>0.806522</td>\n",
       "      <td>0.983923</td>\n",
       "      <td>0.784615</td>\n",
       "      <td>0.710082</td>\n",
       "    </tr>\n",
       "    <tr>\n",
       "      <th>testScores</th>\n",
       "      <td>0.837662</td>\n",
       "      <td>0.981982</td>\n",
       "      <td>0.825758</td>\n",
       "      <td>0.723549</td>\n",
       "    </tr>\n",
       "  </tbody>\n",
       "</table>\n",
       "</div>"
      ],
      "text/plain": [
       "             accuracy    recall  precision  roc_auc_score\n",
       "trainScores  0.806522  0.983923   0.784615       0.710082\n",
       "testScores   0.837662  0.981982   0.825758       0.723549"
      ]
     },
     "execution_count": 487,
     "metadata": {},
     "output_type": "execute_result"
    }
   ],
   "source": [
    "from sklearn.metrics import accuracy_score , recall_score, precision_score , roc_auc_score\n",
    "pd.DataFrame(data=[[accuracy_score(ytrain, preds), recall_score(ytrain, preds),precision_score(ytrain, preds), roc_auc_score(ytrain, preds)],\n",
    "                   [accuracy_score(ytest, testpreds), recall_score(ytest, testpreds),precision_score(ytest, testpreds), roc_auc_score(ytest, testpreds)]],\n",
    "             columns=[\"accuracy\", \"recall\", \"precision\", \"roc_auc_score\"], index=['trainScores','testScores'])"
   ]
  },
  {
   "cell_type": "code",
   "execution_count": 488,
   "metadata": {},
   "outputs": [
    {
     "name": "stdout",
     "output_type": "stream",
     "text": [
      "[[ 65  84]\n",
      " [  5 306]]\n",
      "[[ 20  23]\n",
      " [  2 109]]\n"
     ]
    }
   ],
   "source": [
    "from sklearn.metrics import confusion_matrix\n",
    "print(confusion_matrix(ytrain,preds))\n",
    "print(confusion_matrix(ytest,testpreds))"
   ]
  },
  {
   "cell_type": "code",
   "execution_count": 489,
   "metadata": {},
   "outputs": [
    {
     "name": "stdout",
     "output_type": "stream",
     "text": [
      "training score = 0.8065217391304348 , while validation score = 0.8022982834823724\n"
     ]
    },
    {
     "name": "stderr",
     "output_type": "stream",
     "text": [
      "C:\\ProgramData\\Anaconda3\\lib\\site-packages\\sklearn\\linear_model\\logistic.py:433: FutureWarning: Default solver will be changed to 'lbfgs' in 0.22. Specify a solver to silence this warning.\n",
      "  FutureWarning)\n",
      "C:\\ProgramData\\Anaconda3\\lib\\site-packages\\sklearn\\linear_model\\logistic.py:433: FutureWarning: Default solver will be changed to 'lbfgs' in 0.22. Specify a solver to silence this warning.\n",
      "  FutureWarning)\n",
      "C:\\ProgramData\\Anaconda3\\lib\\site-packages\\sklearn\\linear_model\\logistic.py:433: FutureWarning: Default solver will be changed to 'lbfgs' in 0.22. Specify a solver to silence this warning.\n",
      "  FutureWarning)\n",
      "C:\\ProgramData\\Anaconda3\\lib\\site-packages\\sklearn\\linear_model\\logistic.py:433: FutureWarning: Default solver will be changed to 'lbfgs' in 0.22. Specify a solver to silence this warning.\n",
      "  FutureWarning)\n",
      "C:\\ProgramData\\Anaconda3\\lib\\site-packages\\sklearn\\linear_model\\logistic.py:433: FutureWarning: Default solver will be changed to 'lbfgs' in 0.22. Specify a solver to silence this warning.\n",
      "  FutureWarning)\n",
      "C:\\ProgramData\\Anaconda3\\lib\\site-packages\\sklearn\\linear_model\\logistic.py:433: FutureWarning: Default solver will be changed to 'lbfgs' in 0.22. Specify a solver to silence this warning.\n",
      "  FutureWarning)\n",
      "C:\\ProgramData\\Anaconda3\\lib\\site-packages\\sklearn\\linear_model\\logistic.py:433: FutureWarning: Default solver will be changed to 'lbfgs' in 0.22. Specify a solver to silence this warning.\n",
      "  FutureWarning)\n",
      "C:\\ProgramData\\Anaconda3\\lib\\site-packages\\sklearn\\linear_model\\logistic.py:433: FutureWarning: Default solver will be changed to 'lbfgs' in 0.22. Specify a solver to silence this warning.\n",
      "  FutureWarning)\n",
      "C:\\ProgramData\\Anaconda3\\lib\\site-packages\\sklearn\\linear_model\\logistic.py:433: FutureWarning: Default solver will be changed to 'lbfgs' in 0.22. Specify a solver to silence this warning.\n",
      "  FutureWarning)\n",
      "C:\\ProgramData\\Anaconda3\\lib\\site-packages\\sklearn\\linear_model\\logistic.py:433: FutureWarning: Default solver will be changed to 'lbfgs' in 0.22. Specify a solver to silence this warning.\n",
      "  FutureWarning)\n"
     ]
    }
   ],
   "source": [
    "from sklearn.model_selection import cross_val_score\n",
    "score_train= logreg.score(xtrain, ytrain)\n",
    "score_val = cross_val_score(logreg,xtrain, ytrain, cv=10).mean()\n",
    "print('training score = %s , while validation score = %s' %(score_train , score_val))"
   ]
  },
  {
   "cell_type": "code",
   "execution_count": 490,
   "metadata": {},
   "outputs": [
    {
     "name": "stdout",
     "output_type": "stream",
     "text": [
      "   THRESHOLD  accuracy  recall  precision  roc_auc_score\n",
      "0        1.0  0.676087     1.0   0.676087            0.5\n",
      "   THRESHOLD  accuracy  recall  precision  roc_auc_score\n",
      "0        2.0  0.676087     1.0   0.676087            0.5\n",
      "   THRESHOLD  accuracy  recall  precision  roc_auc_score\n",
      "0        3.0  0.682609     1.0   0.680525       0.510067\n",
      "   THRESHOLD  accuracy  recall  precision  roc_auc_score\n",
      "0        4.0       0.7     1.0    0.69265       0.536913\n",
      "   THRESHOLD  accuracy  recall  precision  roc_auc_score\n",
      "0        5.0  0.713043     1.0   0.702032       0.557047\n",
      "   THRESHOLD  accuracy    recall  precision  roc_auc_score\n",
      "0        6.0  0.726087  0.996785   0.712644       0.578929\n",
      "   THRESHOLD  accuracy    recall  precision  roc_auc_score\n",
      "0        7.0      0.75  0.996785   0.731132       0.615842\n",
      "   THRESHOLD  accuracy    recall  precision  roc_auc_score\n",
      "0        8.0  0.756522  0.993569    0.73747       0.627657\n",
      "   THRESHOLD  accuracy    recall  precision  roc_auc_score\n",
      "0        9.0  0.773913  0.993569   0.751825       0.654503\n",
      "   THRESHOLD  accuracy    recall  precision  roc_auc_score\n",
      "0       10.0  0.782609  0.990354   0.760494       0.669673\n",
      "   THRESHOLD  accuracy    recall  precision  roc_auc_score\n",
      "0       11.0  0.786957  0.990354   0.764268       0.676385\n",
      "   THRESHOLD  accuracy    recall  precision  roc_auc_score\n",
      "0       12.0  0.784783  0.987138   0.763682       0.674777\n",
      "   THRESHOLD  accuracy    recall  precision  roc_auc_score\n",
      "0       13.0  0.786957  0.987138   0.765586       0.678133\n",
      "   THRESHOLD  accuracy    recall  precision  roc_auc_score\n",
      "0       14.0   0.78913  0.987138     0.7675       0.681489\n",
      "   THRESHOLD  accuracy    recall  precision  roc_auc_score\n",
      "0       15.0  0.791304  0.987138   0.769424       0.684844\n",
      "   THRESHOLD  accuracy    recall  precision  roc_auc_score\n",
      "0       16.0       0.8  0.987138   0.777215       0.698267\n",
      "   THRESHOLD  accuracy    recall  precision  roc_auc_score\n",
      "0       17.0       0.8  0.987138   0.777215       0.698267\n",
      "   THRESHOLD  accuracy    recall  precision  roc_auc_score\n",
      "0       18.0  0.802174  0.987138   0.779188       0.701623\n",
      "   THRESHOLD  accuracy    recall  precision  roc_auc_score\n",
      "0       19.0  0.802174  0.983923   0.780612       0.703371\n",
      "   THRESHOLD  accuracy    recall  precision  roc_auc_score\n",
      "0       20.0  0.802174  0.983923   0.780612       0.703371\n",
      "   THRESHOLD  accuracy    recall  precision  roc_auc_score\n",
      "0       21.0  0.802174  0.983923   0.780612       0.703371\n",
      "   THRESHOLD  accuracy    recall  precision  roc_auc_score\n",
      "0       22.0  0.802174  0.983923   0.780612       0.703371\n",
      "   THRESHOLD  accuracy    recall  precision  roc_auc_score\n",
      "0       23.0  0.802174  0.983923   0.780612       0.703371\n",
      "   THRESHOLD  accuracy    recall  precision  roc_auc_score\n",
      "0       24.0  0.802174  0.983923   0.780612       0.703371\n",
      "   THRESHOLD  accuracy    recall  precision  roc_auc_score\n",
      "0       25.0  0.802174  0.983923   0.780612       0.703371\n",
      "   THRESHOLD  accuracy    recall  precision  roc_auc_score\n",
      "0       26.0  0.802174  0.983923   0.780612       0.703371\n",
      "   THRESHOLD  accuracy    recall  precision  roc_auc_score\n",
      "0       27.0  0.804348  0.983923   0.782609       0.706727\n",
      "   THRESHOLD  accuracy    recall  precision  roc_auc_score\n",
      "0       28.0  0.804348  0.983923   0.782609       0.706727\n",
      "   THRESHOLD  accuracy    recall  precision  roc_auc_score\n",
      "0       29.0  0.804348  0.983923   0.782609       0.706727\n",
      "   THRESHOLD  accuracy    recall  precision  roc_auc_score\n",
      "0       30.0  0.806522  0.983923   0.784615       0.710082\n",
      "   THRESHOLD  accuracy    recall  precision  roc_auc_score\n",
      "0       31.0  0.806522  0.983923   0.784615       0.710082\n",
      "   THRESHOLD  accuracy    recall  precision  roc_auc_score\n",
      "0       32.0  0.806522  0.983923   0.784615       0.710082\n",
      "   THRESHOLD  accuracy    recall  precision  roc_auc_score\n",
      "0       33.0  0.806522  0.983923   0.784615       0.710082\n",
      "   THRESHOLD  accuracy    recall  precision  roc_auc_score\n",
      "0       34.0  0.806522  0.983923   0.784615       0.710082\n",
      "   THRESHOLD  accuracy    recall  precision  roc_auc_score\n",
      "0       35.0  0.806522  0.983923   0.784615       0.710082\n",
      "   THRESHOLD  accuracy    recall  precision  roc_auc_score\n",
      "0       36.0  0.806522  0.983923   0.784615       0.710082\n",
      "   THRESHOLD  accuracy    recall  precision  roc_auc_score\n",
      "0       37.0  0.806522  0.983923   0.784615       0.710082\n",
      "   THRESHOLD  accuracy    recall  precision  roc_auc_score\n",
      "0       38.0  0.806522  0.983923   0.784615       0.710082\n",
      "   THRESHOLD  accuracy    recall  precision  roc_auc_score\n",
      "0       39.0  0.806522  0.983923   0.784615       0.710082\n",
      "   THRESHOLD  accuracy    recall  precision  roc_auc_score\n",
      "0       40.0  0.806522  0.983923   0.784615       0.710082\n",
      "   THRESHOLD  accuracy    recall  precision  roc_auc_score\n",
      "0       41.0  0.806522  0.983923   0.784615       0.710082\n",
      "   THRESHOLD  accuracy    recall  precision  roc_auc_score\n",
      "0       42.0  0.806522  0.983923   0.784615       0.710082\n",
      "   THRESHOLD  accuracy    recall  precision  roc_auc_score\n",
      "0       43.0  0.806522  0.983923   0.784615       0.710082\n",
      "   THRESHOLD  accuracy    recall  precision  roc_auc_score\n",
      "0       44.0  0.806522  0.983923   0.784615       0.710082\n",
      "   THRESHOLD  accuracy    recall  precision  roc_auc_score\n",
      "0       45.0  0.806522  0.983923   0.784615       0.710082\n",
      "   THRESHOLD  accuracy    recall  precision  roc_auc_score\n",
      "0       46.0  0.806522  0.983923   0.784615       0.710082\n",
      "   THRESHOLD  accuracy    recall  precision  roc_auc_score\n",
      "0       47.0  0.806522  0.983923   0.784615       0.710082\n",
      "   THRESHOLD  accuracy    recall  precision  roc_auc_score\n",
      "0       48.0  0.806522  0.983923   0.784615       0.710082\n",
      "   THRESHOLD  accuracy    recall  precision  roc_auc_score\n",
      "0       49.0  0.806522  0.983923   0.784615       0.710082\n",
      "   THRESHOLD  accuracy    recall  precision  roc_auc_score\n",
      "0       50.0  0.806522  0.983923   0.784615       0.710082\n",
      "   THRESHOLD  accuracy    recall  precision  roc_auc_score\n",
      "0       51.0  0.806522  0.983923   0.784615       0.710082\n",
      "   THRESHOLD  accuracy    recall  precision  roc_auc_score\n",
      "0       52.0  0.806522  0.983923   0.784615       0.710082\n",
      "   THRESHOLD  accuracy    recall  precision  roc_auc_score\n",
      "0       53.0  0.808696  0.983923   0.786632       0.713438\n",
      "   THRESHOLD  accuracy    recall  precision  roc_auc_score\n",
      "0       54.0  0.806522  0.980707   0.786082        0.71183\n",
      "   THRESHOLD  accuracy    recall  precision  roc_auc_score\n",
      "0       55.0  0.804348  0.977492    0.78553       0.710222\n",
      "   THRESHOLD  accuracy    recall  precision  roc_auc_score\n",
      "0       56.0  0.802174  0.971061   0.786458       0.710363\n",
      "   THRESHOLD  accuracy    recall  precision  roc_auc_score\n",
      "0       57.0  0.802174  0.967846   0.787958       0.712111\n",
      "   THRESHOLD  accuracy    recall  precision  roc_auc_score\n",
      "0       58.0  0.797826  0.961415   0.786842       0.708895\n",
      "   THRESHOLD  accuracy    recall  precision  roc_auc_score\n",
      "0       59.0       0.8  0.954984      0.792       0.715747\n",
      "   THRESHOLD  accuracy    recall  precision  roc_auc_score\n",
      "0       60.0  0.791304  0.938907   0.791328       0.711064\n",
      "   THRESHOLD  accuracy    recall  precision  roc_auc_score\n",
      "0       61.0  0.793478  0.938907   0.793478        0.71442\n",
      "   THRESHOLD  accuracy    recall  precision  roc_auc_score\n",
      "0       62.0  0.793478  0.935691   0.795082       0.716168\n",
      "   THRESHOLD  accuracy   recall  precision  roc_auc_score\n",
      "0       63.0  0.793478  0.92926   0.798343       0.719664\n",
      "   THRESHOLD  accuracy    recall  precision  roc_auc_score\n",
      "0       64.0  0.793478  0.916399   0.805085       0.726656\n",
      "   THRESHOLD  accuracy    recall  precision  roc_auc_score\n",
      "0       65.0  0.784783  0.903537   0.802857       0.720225\n",
      "   THRESHOLD  accuracy    recall  precision  roc_auc_score\n",
      "0       66.0  0.780435  0.893891   0.803468       0.718757\n",
      "   THRESHOLD  accuracy    recall  precision  roc_auc_score\n",
      "0       67.0  0.776087  0.884244   0.804094        0.71729\n",
      "   THRESHOLD  accuracy    recall  precision  roc_auc_score\n",
      "0       68.0  0.784783  0.881029   0.815476       0.732461\n",
      "   THRESHOLD  accuracy    recall  precision  roc_auc_score\n",
      "0       69.0  0.780435  0.868167   0.818182       0.732741\n",
      "   THRESHOLD  accuracy    recall  precision  roc_auc_score\n",
      "0       70.0  0.776087  0.855305   0.820988       0.733022\n",
      "   THRESHOLD  accuracy    recall  precision  roc_auc_score\n",
      "0       71.0   0.76087  0.829582   0.819048       0.723516\n",
      "   THRESHOLD  accuracy    recall  precision  roc_auc_score\n",
      "0       72.0  0.747826  0.807074    0.81759       0.715618\n"
     ]
    },
    {
     "name": "stdout",
     "output_type": "stream",
     "text": [
      "   THRESHOLD  accuracy   recall  precision  roc_auc_score\n",
      "0       73.0  0.730435  0.77492   0.816949       0.706252\n",
      "   THRESHOLD  accuracy    recall  precision  roc_auc_score\n",
      "0       74.0   0.71087  0.733119   0.820144       0.698774\n",
      "   THRESHOLD  accuracy   recall  precision  roc_auc_score\n",
      "0       75.0  0.697826  0.70418   0.823308       0.694372\n",
      "   THRESHOLD  accuracy    recall  precision  roc_auc_score\n",
      "0       76.0  0.682609  0.672026   0.826087       0.688362\n",
      "   THRESHOLD  accuracy    recall  precision  roc_auc_score\n",
      "0       77.0  0.667391  0.630225   0.837607       0.687596\n",
      "   THRESHOLD  accuracy    recall  precision  roc_auc_score\n",
      "0       78.0  0.654348  0.588424    0.85514       0.690185\n",
      "   THRESHOLD  accuracy    recall  precision  roc_auc_score\n",
      "0       79.0  0.628261  0.533762   0.864583       0.679633\n",
      "   THRESHOLD  accuracy    recall  precision  roc_auc_score\n",
      "0       80.0  0.602174  0.488746   0.863636       0.663836\n",
      "   THRESHOLD  accuracy    recall  precision  roc_auc_score\n",
      "0       81.0  0.593478  0.463023   0.878049       0.664397\n",
      "   THRESHOLD  accuracy    recall  precision  roc_auc_score\n",
      "0       82.0  0.578261  0.434084   0.882353       0.656639\n",
      "   THRESHOLD  accuracy    recall  precision  roc_auc_score\n",
      "0       83.0      0.55  0.385852   0.882353       0.639235\n",
      "   THRESHOLD  accuracy    recall  precision  roc_auc_score\n",
      "0       84.0  0.519565  0.337621      0.875       0.618475\n",
      "   THRESHOLD  accuracy    recall  precision  roc_auc_score\n",
      "0       85.0  0.484783  0.279743       0.87       0.596247\n",
      "   THRESHOLD  accuracy   recall  precision  roc_auc_score\n",
      "0       86.0  0.452174  0.21865   0.883117       0.579123\n",
      "   THRESHOLD  accuracy    recall  precision  roc_auc_score\n",
      "0       87.0  0.428261  0.173633        0.9       0.566682\n",
      "   THRESHOLD  accuracy    recall  precision  roc_auc_score\n",
      "0       88.0  0.395652  0.118971   0.902439       0.546063\n",
      "   THRESHOLD  accuracy    recall  precision  roc_auc_score\n",
      "0       89.0  0.365217  0.073955   0.851852       0.523555\n",
      "   THRESHOLD  accuracy    recall  precision  roc_auc_score\n",
      "0       90.0  0.347826  0.045016   0.823529       0.512441\n",
      "   THRESHOLD  accuracy    recall  precision  roc_auc_score\n",
      "0       91.0   0.33913  0.028939   0.818182       0.507758\n",
      "   THRESHOLD  accuracy    recall  precision  roc_auc_score\n",
      "0       92.0  0.328261  0.009646       0.75       0.501467\n",
      "   THRESHOLD  accuracy  recall  precision  roc_auc_score\n",
      "0       93.0  0.323913     0.0        0.0            0.5\n",
      "   THRESHOLD  accuracy  recall  precision  roc_auc_score\n",
      "0       94.0  0.323913     0.0        0.0            0.5\n",
      "   THRESHOLD  accuracy  recall  precision  roc_auc_score\n",
      "0       95.0  0.323913     0.0        0.0            0.5\n",
      "   THRESHOLD  accuracy  recall  precision  roc_auc_score\n",
      "0       96.0  0.323913     0.0        0.0            0.5\n",
      "   THRESHOLD  accuracy  recall  precision  roc_auc_score\n",
      "0       97.0  0.323913     0.0        0.0            0.5\n",
      "   THRESHOLD  accuracy  recall  precision  roc_auc_score\n",
      "0       98.0  0.323913     0.0        0.0            0.5\n",
      "   THRESHOLD  accuracy  recall  precision  roc_auc_score\n",
      "0       99.0  0.323913     0.0        0.0            0.5\n"
     ]
    },
    {
     "name": "stderr",
     "output_type": "stream",
     "text": [
      "C:\\ProgramData\\Anaconda3\\lib\\site-packages\\sklearn\\metrics\\classification.py:1143: UndefinedMetricWarning: Precision is ill-defined and being set to 0.0 due to no predicted samples.\n",
      "  'precision', 'predicted', average, warn_for)\n",
      "C:\\ProgramData\\Anaconda3\\lib\\site-packages\\sklearn\\metrics\\classification.py:1143: UndefinedMetricWarning: Precision is ill-defined and being set to 0.0 due to no predicted samples.\n",
      "  'precision', 'predicted', average, warn_for)\n",
      "C:\\ProgramData\\Anaconda3\\lib\\site-packages\\sklearn\\metrics\\classification.py:1143: UndefinedMetricWarning: Precision is ill-defined and being set to 0.0 due to no predicted samples.\n",
      "  'precision', 'predicted', average, warn_for)\n",
      "C:\\ProgramData\\Anaconda3\\lib\\site-packages\\sklearn\\metrics\\classification.py:1143: UndefinedMetricWarning: Precision is ill-defined and being set to 0.0 due to no predicted samples.\n",
      "  'precision', 'predicted', average, warn_for)\n",
      "C:\\ProgramData\\Anaconda3\\lib\\site-packages\\sklearn\\metrics\\classification.py:1143: UndefinedMetricWarning: Precision is ill-defined and being set to 0.0 due to no predicted samples.\n",
      "  'precision', 'predicted', average, warn_for)\n",
      "C:\\ProgramData\\Anaconda3\\lib\\site-packages\\sklearn\\metrics\\classification.py:1143: UndefinedMetricWarning: Precision is ill-defined and being set to 0.0 due to no predicted samples.\n",
      "  'precision', 'predicted', average, warn_for)\n",
      "C:\\ProgramData\\Anaconda3\\lib\\site-packages\\sklearn\\metrics\\classification.py:1143: UndefinedMetricWarning: Precision is ill-defined and being set to 0.0 due to no predicted samples.\n",
      "  'precision', 'predicted', average, warn_for)\n"
     ]
    }
   ],
   "source": [
    "from sklearn.metrics import accuracy_score , recall_score, precision_score , roc_auc_score\n",
    "\n",
    "for THRESHOLD in range(1,100) :\n",
    "    preds = np.where(logreg.predict_proba(xtrain)[:,1] > THRESHOLD/100, 1, 0)\n",
    "    df = pd.DataFrame(data=np.array([THRESHOLD,accuracy_score(ytrain, preds), recall_score(ytrain, preds),\n",
    "                       precision_score(ytrain, preds), roc_auc_score(ytrain, preds)]).reshape(1,-1), \n",
    "                 columns=[\"THRESHOLD\",\"accuracy\", \"recall\", \"precision\", \"roc_auc_score\"])\n",
    "    print(df)"
   ]
  },
  {
   "cell_type": "code",
   "execution_count": 491,
   "metadata": {},
   "outputs": [],
   "source": [
    "loan_data_test=pd.read_csv('test_Y3wMUE5_7gLdaTN.csv')"
   ]
  },
  {
   "cell_type": "code",
   "execution_count": 492,
   "metadata": {},
   "outputs": [],
   "source": [
    "loan_data_test=impute_data(loan_data_test)"
   ]
  },
  {
   "cell_type": "code",
   "execution_count": 493,
   "metadata": {},
   "outputs": [
    {
     "name": "stderr",
     "output_type": "stream",
     "text": [
      "C:\\ProgramData\\Anaconda3\\lib\\site-packages\\sklearn\\preprocessing\\data.py:645: DataConversionWarning: Data with input dtype int32, int64, float64, object were all converted to float64 by StandardScaler.\n",
      "  return self.partial_fit(X, y)\n",
      "C:\\ProgramData\\Anaconda3\\lib\\site-packages\\sklearn\\base.py:464: DataConversionWarning: Data with input dtype int32, int64, float64, object were all converted to float64 by StandardScaler.\n",
      "  return self.fit(X, **fit_params).transform(X)\n"
     ]
    }
   ],
   "source": [
    "loan_data_test=impute_data(loan_data_test)\n",
    "loan_data_test=transform_data(loan_data_test)\n",
    "ss_test = StandardScaler()\n",
    "X_std = ss_test.fit_transform(loan_data_test)\n",
    "# pf_test=PolynomialFeatures(2)\n",
    "# X_Poly=pf_test.fit_transform(X_std)\n",
    "loan_data_test['Loan_Status']=logreg.predict(X_std)\n",
    "loan_data_test=transform_data(loan_data_test,rev=True)"
   ]
  },
  {
   "cell_type": "code",
   "execution_count": 494,
   "metadata": {},
   "outputs": [],
   "source": [
    "# pd.DataFrame([loan_data_loan_id,test_preds],columns=['Loan_ID','Loan_Status'])\n",
    "# pd.DataFrame({'Loan_ID':loan_data_loan_id.values,'Loan_Status':test_preds}).to_csv('Loan_Predicted2.csv',index=False)\n",
    "# pd.DataFrame\n",
    "loan_data_test[['Loan_ID','Loan_Status']].to_csv('Loan_Predicted2.csv',index=False)"
   ]
  },
  {
   "cell_type": "code",
   "execution_count": null,
   "metadata": {},
   "outputs": [],
   "source": []
  }
 ],
 "metadata": {
  "kernelspec": {
   "display_name": "Python 3",
   "language": "python",
   "name": "python3"
  },
  "language_info": {
   "codemirror_mode": {
    "name": "ipython",
    "version": 3
   },
   "file_extension": ".py",
   "mimetype": "text/x-python",
   "name": "python",
   "nbconvert_exporter": "python",
   "pygments_lexer": "ipython3",
   "version": "3.7.3"
  }
 },
 "nbformat": 4,
 "nbformat_minor": 2
}
