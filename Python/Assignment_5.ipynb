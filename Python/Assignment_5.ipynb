{
 "cells": [
  {
   "cell_type": "code",
   "execution_count": 25,
   "metadata": {},
   "outputs": [],
   "source": [
    "import numpy as np"
   ]
  },
  {
   "cell_type": "markdown",
   "metadata": {},
   "source": [
    "1.\tCreate 100 random integers between 1 and 10 (both inclusive). Calculate the frequency of occurrence of the numbers (use bincount()) and plot them as under:<br>\n",
    "a.\tPlot the values on a histogram, with the frequency being displayed above each bar."
   ]
  },
  {
   "cell_type": "code",
   "execution_count": 26,
   "metadata": {},
   "outputs": [],
   "source": [
    "narray=np.random.randint(1,11,100)"
   ]
  },
  {
   "cell_type": "code",
   "execution_count": 28,
   "metadata": {},
   "outputs": [],
   "source": [
    "y=np.bincount(narray)\n",
    "x=np.arange(0,len(narray))"
   ]
  },
  {
   "cell_type": "code",
   "execution_count": 29,
   "metadata": {},
   "outputs": [
    {
     "data": {
      "image/png": "[encoded data removed]",
      "text/plain": [
       "<Figure size 432x288 with 1 Axes>"
      ]
     },
     "metadata": {
      "needs_background": "light"
     },
     "output_type": "display_data"
    }
   ],
   "source": [
    "import matplotlib.pyplot as plt\n",
    "plt.title('Question 1')\n",
    "plt.xlabel('Generated Numbers')\n",
    "plt.ylabel('Freq of Numbers')\n",
    "plt.xticks(np.arange(0,len(y)))\n",
    "plt.yticks([])\n",
    "plt.bar(x=np.arange(0,len(y)),height=y)\n",
    "for x_pos in np.arange(1,len(y)):\n",
    "    plt.text(x=x_pos-0.2,y=y[x_pos],s=y[x_pos])"
   ]
  },
  {
   "cell_type": "markdown",
   "metadata": {},
   "source": [
    "b.\tPlot the values on a scatter plot, with the numbers below 5 in one color and numbers above five in another color. The markers for the values should appear as stars."
   ]
  },
  {
   "cell_type": "code",
   "execution_count": 30,
   "metadata": {},
   "outputs": [
    {
     "data": {
      "text/plain": [
       "<matplotlib.collections.PathCollection at 0x2abdab96668>"
      ]
     },
     "execution_count": 30,
     "metadata": {},
     "output_type": "execute_result"
    },
    {
     "data": {
      "image/png": "[encoded data removed]",
      "text/plain": [
       "<Figure size 432x288 with 1 Axes>"
      ]
     },
     "metadata": {
      "needs_background": "light"
     },
     "output_type": "display_data"
    }
   ],
   "source": [
    "plt.scatter(x=np.arange(0,100),y=narray,c=['red' if i<5 else 'green' for i in narray], marker='*')"
   ]
  },
  {
   "cell_type": "markdown",
   "metadata": {},
   "source": [
    "2.\tUsing www.timesjobs.com, perform the following:"
   ]
  },
  {
   "cell_type": "markdown",
   "metadata": {},
   "source": [
    "a.\tGenerate the above URL for the default skills – Data Science, Data Analyst, Data Scientist"
   ]
  },
  {
   "cell_type": "code",
   "execution_count": 31,
   "metadata": {
    "scrolled": true
   },
   "outputs": [
    {
     "name": "stdout",
     "output_type": "stream",
     "text": [
      "https://www.timesjobs.com/candidate/job-search.html?searchType=personalizedSearch&from=submit&txtKeywords=Data+Science%2CData+Enigineer&txtLocation=Pune&cboWorkExp1=8\n"
     ]
    }
   ],
   "source": [
    "import urllib\n",
    "url='https://www.timesjobs.com/candidate/job-search.html?searchType=personalizedSearch&from=submit&'\n",
    "url_param={'txtKeywords':'Data Science,Data Enigineer','txtLocation':'Pune','cboWorkExp1':8}\n",
    "print(url + urllib.parse.urlencode(url_param))"
   ]
  },
  {
   "cell_type": "markdown",
   "metadata": {},
   "source": [
    "b.\tAccept user input on skill(s), experience and location. The user can input n number of skills.<br>\n",
    "c.\tBuild the URL on the basis of the user details collected."
   ]
  },
  {
   "cell_type": "code",
   "execution_count": 33,
   "metadata": {},
   "outputs": [
    {
     "name": "stdout",
     "output_type": "stream",
     "text": [
      "Enter skills (comma separated): Python,Hadoop,hdfs,Unix,Machine learning,Oracle,SQL,Unix,Linux,plsql\n",
      "Enter location of job: Pune\n",
      "Enter year of experience: 8\n",
      "https://www.timesjobs.com/candidate/job-search.html?searchType=personalizedSearch&from=submit&TxtKeywords=Python%2CHadoop%2Chdfs%2CUnix%2CMachine+learning%2COracle%2CSQL%2CUnix%2CLinux%2Cplsql&txtLocation=Pune&cboWorkExp1=8\n"
     ]
    }
   ],
   "source": [
    "search_param={}\n",
    "search_param['TxtKeywords']=input('Enter skills (comma separated): ')\n",
    "search_param['txtLocation']=input('Enter location of job: ')\n",
    "search_param['cboWorkExp1']=input('Enter year of experience: ')\n",
    "generated_url=url + urllib.parse.urlencode(search_param)\n",
    "print(generated_url)"
   ]
  },
  {
   "cell_type": "markdown",
   "metadata": {},
   "source": [
    "d.\tExtract from the URL, the following skills required for the different jobs on the web page.<br>\n",
    "e.\tCreate a hrizontal bar chart of the skills and the number of jobs that require that skill, in descending order. (Ignore skills that have a count of 1 on the web page.)"
   ]
  },
  {
   "cell_type": "code",
   "execution_count": 34,
   "metadata": {},
   "outputs": [],
   "source": [
    "import requests,bs4,string\n",
    "fhand=requests.get(generated_url)\n",
    "company_skills={}\n",
    "soup=bs4.BeautifulSoup(fhand.text,'html.parser')\n",
    "ul_tag=soup.find('ul',{'class':'new-joblist'})\n",
    "for tag in ul_tag.findAll('li',{'class':'clearfix job-bx wht-shd-bx'}):\n",
    "    company_skills[tag.find('h3',{'class':'joblist-comp-name'}).text.replace('(More Jobs)','').strip()]=[skill.strip() for skill in tag.find('span',{'class':'srp-skills'}).text.split(',')]\n",
    "# print(len(company_skills.keys()))\n",
    "noj=int(soup.find('span',{'id':'totolResultCountsId'}).text)/25\n",
    "nextpageurl='https://www.timesjobs.com/candidate/job-search.html?from=submit&'\n",
    "np_param={}\n",
    "np_param['actualTxtKeywords']=search_param['TxtKeywords']\n",
    "np_param['searchBy']=0\n",
    "np_param['rdoOperator']='OR'\n",
    "np_param['searchType']='personalizedSearch'\n",
    "np_param['txtLocation']=search_param['txtLocation']\n",
    "np_param['luceneResultSize']=25\n",
    "np_param['postWeek']=60\n",
    "np_param['TxtKeywords']=search_param['TxtKeywords']\n",
    "np_param['cboWorkExp1']=search_param['cboWorkExp1']\n",
    "np_param['pDate']='I'\n",
    "np_param['sequence']=2\n",
    "np_param['startPage']=1\n",
    "for seq in range(2,int(noj)):\n",
    "    np_param['sequence']=seq\n",
    "    next_page=requests.get(nextpageurl + urllib.parse.urlencode(np_param))\n",
    "#     print(nextpageurl + urllib.parse.urlencode(np_param))\n",
    "    soup=bs4.BeautifulSoup(next_page.text,'html.parser')\n",
    "    ul_tag=soup.find('ul',{'class':'new-joblist'})\n",
    "    for tag in ul_tag.findAll('li',{'class':'clearfix job-bx wht-shd-bx'}):\n",
    "        company_skills[tag.find('h3',{'class':'joblist-comp-name'}).text.replace('(More Jobs)','').strip()]=[skill.strip() for skill in tag.find('span',{'class':'srp-skills'}).text.split(',')]\n",
    "# print(company_skills)\n",
    "skill_count={}\n",
    "for key in company_skills.keys():\n",
    "    for skill in company_skills[key]:\n",
    "        if skill.capitalize() in skill_count.keys():\n",
    "            skill_count[skill.capitalize()]+=1\n",
    "        else:\n",
    "            skill_count[skill.capitalize()]=1"
   ]
  },
  {
   "cell_type": "code",
   "execution_count": 35,
   "metadata": {},
   "outputs": [
    {
     "name": "stdout",
     "output_type": "stream",
     "text": [
      "[22, 22, 13, 9, 7, 3]\n",
      "['Oracle', 'Linux', 'Python', 'Unix', 'Hadoop', 'Machine learning']\n"
     ]
    },
    {
     "data": {
      "text/plain": [
       "<BarContainer object of 6 artists>"
      ]
     },
     "execution_count": 35,
     "metadata": {},
     "output_type": "execute_result"
    },
    {
     "data": {
      "image/png": "[encoded data removed]",
      "text/plain": [
       "<Figure size 432x288 with 1 Axes>"
      ]
     },
     "metadata": {
      "needs_background": "light"
     },
     "output_type": "display_data"
    }
   ],
   "source": [
    "skill_count={}\n",
    "for key in company_skills.keys():\n",
    "    for skill in company_skills[key]:\n",
    "        if skill.capitalize() in skill_count.keys():\n",
    "            skill_count[skill.capitalize()]+=1\n",
    "        else:\n",
    "            skill_count[skill.capitalize()]=1\n",
    "plt.title('Skills Vs Jobs')\n",
    "plt.xlabel('Skills')\n",
    "plt.ylabel('Number of jobs')\n",
    "required_skills={}\n",
    "for skill in search_param['TxtKeywords'].split(','):\n",
    "    if skill in skill_count.keys() and skill_count[skill.capitalize()]>1:\n",
    "        required_skills[skill.capitalize()]=skill_count[skill.capitalize()]\n",
    "print(sorted(required_skills.values(),reverse=True))\n",
    "print(sorted(required_skills,key=required_skills.get,reverse=True))\n",
    "# plt.xticks(np.arange(0,len(y)))\n",
    "# plt.yticks([])\n",
    "# plt.bar(x=[skill.capitalize() for skill in search_param['TxtKeywords'].split(',')  if skill in skill_count.keys() and skill_count[skill.capitalize()]>1],height=[skill_count[skill.capitalize()] for skill in search_param['TxtKeywords'].split(',')  if skill in skill_count.keys() and skill_count[skill.capitalize()]>1])\n",
    "plt.bar(x=sorted(required_skills,key=required_skills.get,reverse=True),height=sorted(required_skills.values(),reverse=True))\n",
    "# skill_count.keys()\n"
   ]
  }
 ],
 "metadata": {
  "kernelspec": {
   "display_name": "Python 3",
   "language": "python",
   "name": "python3"
  },
  "language_info": {
   "codemirror_mode": {
    "name": "ipython",
    "version": 3
   },
   "file_extension": ".py",
   "mimetype": "text/x-python",
   "name": "python",
   "nbconvert_exporter": "python",
   "pygments_lexer": "ipython3",
   "version": "3.7.3"
  }
 },
 "nbformat": 4,
 "nbformat_minor": 2
}
