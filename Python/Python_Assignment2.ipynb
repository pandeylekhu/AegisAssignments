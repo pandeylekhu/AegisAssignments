{
 "cells": [
  {
   "cell_type": "markdown",
   "metadata": {},
   "source": [
    "1.\tWrite a python program to create a new csv file that holds the data about 5 students and their marks: Roll no of student, name and marks scored in Mathematics, Science and English."
   ]
  },
  {
   "cell_type": "code",
   "execution_count": 19,
   "metadata": {},
   "outputs": [
    {
     "name": "stdout",
     "output_type": "stream",
     "text": [
      "Menu:\n",
      "1 - Add New Record\n",
      "0 - To Exit\n",
      "Select the Option: 1\n",
      "RollNo: 2\n",
      "Name: daya\n",
      "Marks Scored in English: 85\n",
      "Marks Scored in Science: 46\n",
      "Marks Scored in Maths: 43\n",
      "Select the Option: 1\n",
      "RollNo: 3\n",
      "Name: \n",
      "Marks Scored in English: 5\n",
      "Marks Scored in Science: 54\n",
      "Marks Scored in Maths: 554\n",
      "Invalid Marks\n",
      "Select the Option: 1\n",
      "RollNo: 3\n",
      "Name: Suman\n",
      "Marks Scored in English: 67\n",
      "Marks Scored in Science: \n",
      "Error while writing the result file invalid literal for int() with base 10: ''\n"
     ]
    }
   ],
   "source": [
    "import csv,os\n",
    "class userExep(Exception):\n",
    "    \"\"\"Base Exception\"\"\"\n",
    "    pass\n",
    "class wrong_name(userExep):\n",
    "    \"\"\"Riase for invalid name\"\"\"\n",
    "    pass\n",
    "class wrong_marks(Exception):\n",
    "    \"\"\"Raise for invalid marks.\"\"\"\n",
    "    pass\n",
    "filepath='results.csv'\n",
    "try:\n",
    "    if os.path.exists(filepath) and os.path.getsize(filepath)!=0:\n",
    "        resultsCsv=open(filepath,mode='a',newline='\\n')\n",
    "        recordWriter=csv.writer(resultsCsv,delimiter=',')\n",
    "    else:\n",
    "        resultsCsv=open(filepath,mode='w',newline='\\n')\n",
    "        recordWriter=csv.writer(resultsCsv,delimiter=',')\n",
    "        recordWriter.writerow(['RollNumber','StudentName','English','Science','Maths'])\n",
    "    print('Menu:\\n1 - Add New Record\\n0 - To Exit')\n",
    "    while 1:\n",
    "        try:\n",
    "            option=int(input('Select the Option: '))\n",
    "            if option!=1:\n",
    "                print('Exiting...!!')\n",
    "                break;\n",
    "            else:\n",
    "                rollNo=int(input(\"RollNo: \"))\n",
    "                name=input(\"Name: \")\n",
    "                eng=int(input(\"Marks Scored in English: \"))\n",
    "                sci=int(input(\"Marks Scored in Science: \"))\n",
    "                maths=int(input(\"Marks Scored in Maths: \"))\n",
    "            \n",
    "                if len(str(eng))>2 or len(str(sci))>2 or len(str(maths))>2:\n",
    "                    raise wrong_marks\n",
    "                if len(name.strip())==0 and name.isalpha()==False :\n",
    "                    raise wrong_name\n",
    "                else:\n",
    "                    recordWriter.writerow([rollNo,name,eng,sci,maths])\n",
    "        except wrong_marks as e:\n",
    "            print('Invalid Marks')\n",
    "        except wrong_name as e:\n",
    "            print('Invalid Name')\n",
    "    resultsCsv.close()\n",
    "except Exception as e:\n",
    "    resultsCsv.close()\n",
    "    print('Error while writing the result file',e)"
   ]
  },
  {
   "cell_type": "markdown",
   "metadata": {},
   "source": [
    "2.\tWrite a python to program to add to each record in the above csv file, the total marks and the percentage secured by each student. Then print its contents sorted in descending order of percentage."
   ]
  },
  {
   "cell_type": "code",
   "execution_count": 24,
   "metadata": {},
   "outputs": [
    {
     "name": "stdout",
     "output_type": "stream",
     "text": [
      "File Updation Started...\n",
      "File Updation Completed.\n",
      "Before Sort:\n",
      " RollNumber,StudentName,English,Science,Maths,Total,Percent\r\n",
      "1,Ramesh,54,65,76,195,65.0\r\n",
      "2,Suresh,85,46,43,174,58.0\r\n",
      "3,daya,43,65,54,162,54.0\r\n",
      "\n",
      "After Sort:\n",
      " RollNumber,StudentName,English,Science,Maths,Total,Percent\n",
      "1,Ramesh,54,65,76,195,65.0\n",
      "2,Suresh,85,46,43,174,58.0\n",
      "3,daya,43,65,54,162,54.0\n"
     ]
    }
   ],
   "source": [
    "import os\n",
    "filepath='results.csv'\n",
    "try:\n",
    "    resultsCsv=open(filepath,mode='r+',newline='\\n')\n",
    "    tempCsv=open(filepath+'.tmp',mode='w+')\n",
    "    #change the files\n",
    "#     resultsCsv.seek(0) #move back to start of file.\n",
    "    print('File Updation Started...')\n",
    "    for line in resultsCsv.readlines():\n",
    "        if line.startswith('RollNumber'):\n",
    "            tempCsv.writelines(line.strip()+',Total,Percent\\n')\n",
    "        else:\n",
    "            tempCsv.writelines(line.strip()+','+str(sum([int(marks) for marks in line.strip().split(',')[2:5]]))\n",
    "                  +','+str(sum([int(marks) for marks in line.strip().split(',')[2:5]])*(1/3))+'\\n')\n",
    "                    \n",
    "    tempCsv.close()\n",
    "    resultsCsv.close()\n",
    "    #rename the files.\n",
    "    os.remove(filepath)\n",
    "    os.rename(filepath+'.tmp',filepath)\n",
    "    print('File Updation Completed.')\n",
    "    \n",
    "    #Sort the data on percentage and display here.\n",
    "    resultsCsv=open(filepath,mode='r',newline='\\n')\n",
    "    print('Before Sort:\\n',resultsCsv.read())\n",
    "    resultsCsv.seek(0)\n",
    "    lines=resultsCsv.readlines()\n",
    "    print('After Sort:\\n',lines[0].strip('\\r\\n'))\n",
    "    lines=[line.strip('\\r\\n') for line in lines[1:]]\n",
    "    lines.sort(key=lambda line: int(float(line.split(',')[-1])),reverse=True)\n",
    "    for line in lines: print(line)\n",
    "    resultsCsv.close()\n",
    "except Exception as e:\n",
    "    tempCsv.close()\n",
    "    resultsCsv.close()\n",
    "    print('Error while reading the result file',e)"
   ]
  },
  {
   "cell_type": "markdown",
   "metadata": {},
   "source": [
    "3.\tWrite a program to create a file that holds the mailing addresses of all the students in your class. Using this file, determine the different number of students using each of the different domains."
   ]
  },
  {
   "cell_type": "code",
   "execution_count": 1,
   "metadata": {},
   "outputs": [
    {
     "name": "stdout",
     "output_type": "stream",
     "text": [
      "Menu:\n",
      "1 - Add New Contact\n",
      "2 - Get the no. students per Domain\n",
      "0 - To Exit\n",
      "Select the Option: 2\n",
      "Domain Count\n",
      "hotmail.com 2\n",
      "yahoo.com 1\n",
      "gmail.com 2\n",
      "Select the Option: \n",
      "Exiting...!!\n"
     ]
    }
   ],
   "source": [
    "import os,re,csv\n",
    "emailFile='Email.csv'\n",
    "try:\n",
    "    if os.path.exists(emailFile) and os.path.getsize(emailFile)!=0:\n",
    "        fhand=open(emailFile,mode='a+',newline='\\n')\n",
    "        recordWriter=csv.writer(fhand,delimiter=',')\n",
    "    else:\n",
    "        fhand=open(emailFile,mode='w+',newline='\\n')\n",
    "        recordWriter=csv.writer(fhand,delimiter=',')\n",
    "        recordWriter.writerow(['ContactName','EmailID'])\n",
    "    print('Menu:\\n1 - Add New Contact\\n2 - Get the no. students per Domain\\n0 - To Exit')\n",
    "    while 1:\n",
    "        option=int(input('Select the Option: ') or 0)\n",
    "        if option==0:\n",
    "            print('Exiting...!!')\n",
    "            break;\n",
    "        elif option==1:\n",
    "            recordWriter.writerow([input('Contact Name: '),input('Email ID: ')])\n",
    "        else:\n",
    "            fhand.seek(0)\n",
    "            text=fhand.read()\n",
    "            matches=re.findall(r'@([\\w\\.]+)',text,flags=re.I)\n",
    "            uniqItems=set(matches)\n",
    "            print('Domain','Count')\n",
    "            for item in uniqItems:\n",
    "                print(item,matches.count(item))\n",
    "    fhand.close()        \n",
    "except Exception as e:\n",
    "    fhand.close()\n",
    "    print('Error Occured:',e)"
   ]
  },
  {
   "cell_type": "markdown",
   "metadata": {},
   "source": [
    "4.\tCreate a file that contains the names of all the students in your class and the month in which their birthday falls. Write a program to find the names of all students whose birthday falls in the month of October. "
   ]
  },
  {
   "cell_type": "code",
   "execution_count": 1,
   "metadata": {},
   "outputs": [
    {
     "name": "stdout",
     "output_type": "stream",
     "text": [
      "Menu:\n",
      "1 - Add New Name\n",
      "2 - Get students born in x month\n",
      "0 - To Exit\n",
      "Select the Option: 2\n",
      "Enter month: \n",
      "Enter a valid Month\n",
      "Select the Option: \n",
      "Exiting...!!\n"
     ]
    }
   ],
   "source": [
    "import os,re,csv,calendar\n",
    "class userExep(Exception):\n",
    "    \"\"\"Base Exception\"\"\"\n",
    "    pass\n",
    "birthDays='birthDay.csv'\n",
    "try:\n",
    "    if os.path.exists(birthDays) and os.path.getsize(birthDays)!=0:\n",
    "        fhand=open(birthDays,mode='a+',newline='\\n')\n",
    "        recordWriter=csv.writer(fhand,delimiter=',')\n",
    "    else:\n",
    "        fhand=open(birthDays,mode='w+',newline='\\n')\n",
    "        recordWriter=csv.writer(fhand,delimiter=',')\n",
    "        recordWriter.writerow(['Name','BirthDate'])\n",
    "    print('Menu:\\n1 - Add New Name\\n2 - Get students born in x month\\n0 - To Exit')\n",
    "    while 1:\n",
    "        option=int(input('Select the Option: ') or 0)\n",
    "        if option==0:\n",
    "            print('Exiting...!!')\n",
    "            break;\n",
    "        elif option==1:\n",
    "            recordWriter.writerow([input('Name: '),input('Birth Date: ')])\n",
    "        else:\n",
    "            try:\n",
    "                month=input('Enter month: ')\n",
    "                if month.isdigit() or month=='':\n",
    "                    if month=='' or int(month)>12 or int(month)<1:\n",
    "                        raise userExep\n",
    "                    month=calendar.month_abbr[int(month)]\n",
    "                else:\n",
    "                    month=month[:3]\n",
    "                    if list(calendar.month_abbr).count(month)==0:\n",
    "                        raise userExep\n",
    "            except userExep:\n",
    "                print('Enter a valid Month')\n",
    "                continue\n",
    "            fhand.seek(0)\n",
    "            matches=re.findall(r'([\\w]+),.*/('+month+')/.*',fhand.read().upper(),flags=re.I)\n",
    "            print('Student Born in month of',month,'are:')\n",
    "            for litem in matches:\n",
    "                print(litem[0]) \n",
    "except Exception as e:\n",
    "    print('Error Occured:',e)\n",
    "finally:\n",
    "    fhand.close()"
   ]
  },
  {
   "cell_type": "markdown",
   "metadata": {},
   "source": [
    "5.\tWrite a program to create a list of lists. The element list should be factors of the indices\n",
    "of the list.\n",
    "Sample input: 10\n",
    "Sample output: [[0], [1], [1, 2], [1, 3], [1, 2, 4], [1, 5], [1, 2, 3, 6], [1, 7], [1, 2, 4, 8], [1, 3, 9], [1, 2, 5, 10]]"
   ]
  },
  {
   "cell_type": "code",
   "execution_count": 31,
   "metadata": {},
   "outputs": [
    {
     "name": "stdout",
     "output_type": "stream",
     "text": [
      "Enter the number for lists: 10\n",
      "List is as below:\n",
      " [[0], [1], [1, 2], [1, 3], [1, 2, 4], [1, 5], [1, 2, 3, 6], [1, 7], [1, 2, 4, 8], [1, 3, 9], [1, 2, 5, 10]]\n"
     ]
    }
   ],
   "source": [
    "highbound=int(input('Enter the number for lists: '))\n",
    "print('List is as below:\\n',[[fact for fact in range(1,indx+1) if indx%fact==0] or [0] for indx in range(0,highbound+1)])"
   ]
  },
  {
   "cell_type": "markdown",
   "metadata": {},
   "source": [
    "6.\tDevelop a Phone-Book using dictionaries and search for a particular name then display it."
   ]
  },
  {
   "cell_type": "code",
   "execution_count": 49,
   "metadata": {},
   "outputs": [
    {
     "name": "stdout",
     "output_type": "stream",
     "text": [
      "Menu:\n",
      "1 - Add New Contact\n",
      "2 - Search by Name\n",
      "0 - To Exit\n",
      "Option: 1\n",
      "Name: \n",
      "Contact: \n",
      "Invalid Contact Number\n",
      "Option: 1\n",
      "Name: Suman\n",
      "Contact: \n",
      "Invalid Contact Number\n",
      "Option: 1\n",
      "Name: Suman\n",
      "Contact: 23234834\n",
      "Option: 2\n",
      "Search By Name: suman\n",
      "Name:  SUMAN \n",
      "Contact:  23234834\n",
      "Option: 2\n",
      "Search By Name: Daya\n",
      "Contact Not Present\n",
      "Option: 0\n",
      "Exiting...!!!\n"
     ]
    }
   ],
   "source": [
    "class userExep(Exception):\n",
    "    \"\"\"Base Exception\"\"\"\n",
    "    pass\n",
    "print('Menu:\\n1 - Add New Contact\\n2 - Search by Name\\n0 - To Exit')\n",
    "phoneBook={}\n",
    "while 1:\n",
    "    opt=int(input('Option: ') or 0)\n",
    "    if opt==0:\n",
    "        print('Exiting...!!!')\n",
    "        break\n",
    "    if opt==1:\n",
    "        try:\n",
    "            (name,contact)=(input('Name: '),input('Contact: '))\n",
    "            if contact.isdigit()==False:\n",
    "                raise userExep\n",
    "            phoneBook[name.upper()]=contact\n",
    "        except userExep:\n",
    "            print('Invalid Contact Number')\n",
    "    else:\n",
    "        if len(phoneBook)==0:\n",
    "            print('Phonebook is Empty.')\n",
    "        else:\n",
    "            searchName=input('Search By Name: ')\n",
    "            contact=phoneBook.get(searchName.upper())\n",
    "            if contact==None:\n",
    "                print('Contact Not Present')\n",
    "            else:\n",
    "                print('Name: ',searchName.upper(),'\\nContact: ',contact)"
   ]
  },
  {
   "cell_type": "markdown",
   "metadata": {},
   "source": [
    "7.\tWrite a Python program to combine two dictionary adding values for common keys. \n",
    "Sample input: d1 = {'a': 100, 'b': 200, 'c':300} and d2 = {'a': 300, 'b': 200,’d’:400}\n",
    "Sample output: Counter ({'a': 400, 'b': 400, 'd': 400, 'c': 300})"
   ]
  },
  {
   "cell_type": "code",
   "execution_count": 30,
   "metadata": {},
   "outputs": [
    {
     "name": "stdout",
     "output_type": "stream",
     "text": [
      "{'a': 100, 'b': 200, 'c': 300}\n",
      "{'a': 300, 'b': 200, 'd': 400}\n",
      "{'a': 400, 'b': 400, 'c': 300, 'd': 400}\n"
     ]
    }
   ],
   "source": [
    "d1 = {'a': 100, 'b': 200, 'c':300} \n",
    "d2 = {'a': 300, 'b': 200,'d':400}\n",
    "\n",
    "def mergeDict(first,second):\n",
    "    temp={}\n",
    "    temp=first.copy()\n",
    "    for x in second.keys():\n",
    "        if x in temp:\n",
    "            temp[x]=temp[x]+second[x]\n",
    "        else:\n",
    "            temp[x]=second[x]\n",
    "    return temp\n",
    "print(d1)\n",
    "print(d2)\n",
    "print(mergeDict(d1,d2))"
   ]
  },
  {
   "cell_type": "markdown",
   "metadata": {},
   "source": [
    "8.\tWrite a program to display all the unique values in the given list of dictionaries:\n",
    "Sample Data: [{\"V\":\"S001\"}, {\"V\": \"S002\"}, {\"VI\": \"S001\"}, {\"VI\": \"S005\"}, {\"VII\":\"S005\"}, {\"V\":\"S009\"},{\"VIII\":\"S007\"}]"
   ]
  },
  {
   "cell_type": "code",
   "execution_count": 85,
   "metadata": {},
   "outputs": [
    {
     "name": "stdout",
     "output_type": "stream",
     "text": [
      "{'S001', 'S002', 'S005', 'S007', 'S009'}\n"
     ]
    }
   ],
   "source": [
    "dictlst=[{\"V\":\"S001\"}, {\"V\": \"S002\"}, {\"VI\": \"S001\"}, {\"VI\": \"S005\"}, {\"VII\":\"S005\"}, {\"V\":\"S009\"},{\"VIII\":\"S007\"}]\n",
    "print(set([val for dic in dictlst for val in dic.values()]))"
   ]
  },
  {
   "cell_type": "markdown",
   "metadata": {},
   "source": [
    "9.\tCreate a program that counts the total number of words, total number of punctuation marks and displays the most frequently occurring word  from the following paragraph:\n",
    "<i>Entrepreneur and e-commerce pioneer Jeff Bezos was born on January 12, 1964, in Albuquerque, New Mexico. Bezos had an early love of computers and studied computer science and electrical engineering at Princeton University. After graduation he worked on Wall Street, and in 1990 he became the youngest senior vice president at the investment firm D.E. Shaw. Four years later, he quit his lucrative job to open Amazon.com, a virtual bookstore that became one of the internet's biggest success stories. In 2013, Bezos purchased The Washington Post in a $250 million deal. His successful business ventures have made him one of the richest people in the world!</i>"
   ]
  },
  {
   "cell_type": "code",
   "execution_count": 2,
   "metadata": {},
   "outputs": [
    {
     "name": "stdout",
     "output_type": "stream",
     "text": [
      "Number of Words: 106\n",
      "Number of Punctuation: 19\n",
      "Most Repeated word: the\n"
     ]
    }
   ],
   "source": [
    "import re,string\n",
    "fhand=open('question9.txt')\n",
    "content=fhand.read()\n",
    "print('Number of Words:',len(content.split()))\n",
    "print('Number of Punctuation:',len([x for x in content if x in string.punctuation]))\n",
    "wordlst=[x.lower().strip(string.punctuation) for x in content.split()]\n",
    "wordcountdict={y:wordlst.count(y) for y in wordlst}\n",
    "print('Most Repeated word:',list(wordcountdict.keys())[list(wordcountdict.values()).index(max(wordcountdict.values()))])\n",
    "fhand.close()"
   ]
  },
  {
   "cell_type": "markdown",
   "metadata": {},
   "source": [
    "10.\tFrom the above paragraph, extract all the years mentioned."
   ]
  },
  {
   "cell_type": "code",
   "execution_count": 156,
   "metadata": {},
   "outputs": [
    {
     "name": "stdout",
     "output_type": "stream",
     "text": [
      "['1964', '1990', '2013']\n"
     ]
    }
   ],
   "source": [
    "import re,string\n",
    "fhand=open('question9.txt')\n",
    "content=fhand.read()\n",
    "years=re.findall(r'[\\d]{4}',content)\n",
    "print(years)"
   ]
  },
  {
   "cell_type": "code",
   "execution_count": 3,
   "metadata": {},
   "outputs": [
    {
     "data": {
      "text/plain": [
       "True"
      ]
     },
     "execution_count": 3,
     "metadata": {},
     "output_type": "execute_result"
    }
   ],
   "source": [
    "strt='alpha'\n",
    "strt.isalpha()"
   ]
  }
 ],
 "metadata": {
  "kernelspec": {
   "display_name": "Python 3",
   "language": "python",
   "name": "python3"
  },
  "language_info": {
   "codemirror_mode": {
    "name": "ipython",
    "version": 3
   },
   "file_extension": ".py",
   "mimetype": "text/x-python",
   "name": "python",
   "nbconvert_exporter": "python",
   "pygments_lexer": "ipython3",
   "version": "3.7.3"
  }
 },
 "nbformat": 4,
 "nbformat_minor": 2
}
