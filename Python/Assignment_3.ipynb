{
 "cells": [
  {
   "cell_type": "markdown",
   "metadata": {},
   "source": [
    "1.\tWrite a socket program in Python that prompts the client to send a URL to the server. The server reads the web page and sends to the client the most used word and least used word and their count. Add error checking using try and except to handle the condition where the user enters an improperly formatted or non-existent URL.<br>\n",
    "http://www.py4inf.com/code/words.txt"
   ]
  },
  {
   "cell_type": "code",
   "execution_count": 39,
   "metadata": {},
   "outputs": [],
   "source": [
    "def getMaxMinWordCounts(url):\n",
    "    import urllib.request,string\n",
    "    try:\n",
    "        fhand=urllib.request.urlopen(url)\n",
    "        counts=dict()\n",
    "        for line in fhand:\n",
    "            words=line.split()\n",
    "            for word in words:\n",
    "                word=word.decode('utf-8').lower().strip(string.punctuation)\n",
    "                counts[word]=counts.get(word,0)+1\n",
    "        output='Word,RepeatCount\\n'\n",
    "        maxlst=[word+','+str(count)+'\\n' for word,count in counts.items() if count==max(counts.values())]\n",
    "        for line in maxlst:\n",
    "            output+=line\n",
    "        minlst=[word+','+str(count)+'\\n' for word,count in counts.items() if count==min(counts.values())]\n",
    "        for line in minlst:\n",
    "            output+=line\n",
    "        return(output)\n",
    "    except urllib.request.URLError as e:\n",
    "        return('Unable to reach URL. \"ERROR: '+str(e)+'\" occured while opening the URL.')\n",
    "    except ValueError as e:\n",
    "        return('Invalid URL. \"ERROR: '+str(e)+'\" occured while opening the URL.')\n",
    "# print(getMaxMinWordCounts('http://www.py4inf.com/code/words.txt'))"
   ]
  },
  {
   "cell_type": "code",
   "execution_count": 40,
   "metadata": {},
   "outputs": [
    {
     "name": "stdout",
     "output_type": "stream",
     "text": [
      "Server Started listening at: 192.168.154.1 1234\n",
      "Connected with 192.168.154.1 55777\n",
      "Client at 192.168.154.1 55777 got disconnected.\n",
      "ERROR: unknown url type: 'dfsflsdfsl.com'\n",
      "Server is closed Now\n"
     ]
    }
   ],
   "source": [
    "#This is server code.\n",
    "import socket\n",
    "server=socket.socket(socket.AF_INET, socket.SOCK_STREAM)\n",
    "server.bind((socket.gethostbyname(socket.gethostname()),1234))\n",
    "server.listen()\n",
    "print('Server Started listening at:',socket.gethostbyname(socket.gethostname()),1234)\n",
    "client,addr=server.accept()\n",
    "print('Connected with',addr[0],addr[1])\n",
    "client.send('Please provide the link or type \"Exit\" to exit:'.encode('utf-8'))\n",
    "while True:\n",
    "    try:\n",
    "        rcvdInput=client.recv(1024).decode('utf-8')\n",
    "        if rcvdInput.isspace():\n",
    "            client.send('Invalid Input'.encode('utf-8'))\n",
    "        elif rcvdInput.lower()!='exit':\n",
    "            msg='Maximum and Minimum repeated words in link '+rcvdInput+'are as below:\\n'\n",
    "            client.send(msg.encode('utf-8')+getMaxMinWordCounts(rcvdInput).encode('utf-8'))\n",
    "        else:\n",
    "            client.send('GoodBye'.encode('utf-8'))\n",
    "            client.close()\n",
    "            break\n",
    "    except Exception as e:\n",
    "        print('Client at',addr[0],addr[1],'got disconnected.')\n",
    "        print('ERROR:',e)\n",
    "        break\n",
    "server.close()\n",
    "print('Server is closed Now')"
   ]
  },
  {
   "cell_type": "markdown",
   "metadata": {},
   "source": [
    "2.\tWrite a Python program that uses urllib to retrieve the document from a URL, display up to 300 characters, and count the overall number of characters in the document."
   ]
  },
  {
   "cell_type": "code",
   "execution_count": 89,
   "metadata": {},
   "outputs": [
    {
     "name": "stdout",
     "output_type": "stream",
     "text": [
      "-----------------First 300 character is link is as below:-------------------------------------\n",
      "Writing programs or programming is a very creative\n",
      "and rewarding activity  You can write programs for\n",
      "many reasons ranging from making your living to solving\n",
      "a difficult data analysis problem to having fun to helping\n",
      "someone else solve a problem  This book assumes that\n",
      "{\\em everyone} needs to know h\n",
      "-----------------Total number of characters on passed link is :-------------------------------\n",
      "1171\n"
     ]
    }
   ],
   "source": [
    "import urllib.request\n",
    "fhand=urllib.request.urlopen('http://www.py4inf.com/code/words.txt')\n",
    "txt=fhand.read().decode('utf-8')\n",
    "print('-----------------First 300 character in link is as below:-------------------------------------')\n",
    "print(txt[:300])\n",
    "print('-----------------Total number of characters on passed link is :-------------------------------')\n",
    "print(len(txt))"
   ]
  },
  {
   "cell_type": "markdown",
   "metadata": {},
   "source": [
    "3.\tWrite a Python program to extract and count paragraphs from the retrieved HTML document given and display the count of the paragraphs. Also display the frequency of the letter ‘e’ in each of the paragraphs and which paragraph has the maximum number of ‘e’."
   ]
  },
  {
   "cell_type": "code",
   "execution_count": 252,
   "metadata": {
    "scrolled": true
   },
   "outputs": [
    {
     "name": "stdout",
     "output_type": "stream",
     "text": [
      "There are 9 paragraphs in the provided link\n",
      "\n",
      "Paragraph: 1\n",
      "We live in a wonderfully complex universe, and we are curious about it by nature. Time and again we have wondered why are we here? Where did we and the world come from? What is the world made of? It is our privilege to live in a time when enormous progress has been made towards finding some of the answers. String theory is our most recent attempt to answer the last (and part of the second) question.\n",
      "Number of e: 47\n",
      "\n",
      "Paragraph: 2\n",
      "So, what is the world made of? Ordinary matter is made of atoms, which are in turn made of just three basic components: electrons whirling around a nucleus composed of neutrons and protons. The electron is a truly fundamental particle (it is one of a family of particles known as leptons), but neutrons and protons are made of smaller particles, known as quarks. Quarks are, as far as we know, truly elementary.\n",
      "Number of e: 32\n",
      "\n",
      "Paragraph: 3\n",
      "Our current knowledge about the subatomic composition of the universe is summarized in what is known as the Standard Model of particle physics. It describes both the fundamental building blocks out of which the world is made, and the forces through which these blocks interact. There are twelve basic building blocks. Six of these are quarks they go by the interesting names of up, down, charm, strange, bottom and top. (A proton, for instance, is made of two up quarks and one down quark.) The other six are leptons these include the electron and its two heavier siblings, the muon and the tauon, as well as three neutrinos.\n",
      "Number of e: 57\n",
      "\n",
      "Paragraph: 4\n",
      "There are four fundamental forces in the universe: gravity, electromagnetism, and the weak and strong nuclear forces. Each of these is produced by fundamental particles that act as carriers of the force. The most familiar of these is the photon, a particle of light, which is the mediator of electromagnetic forces. (This means that, for instance, a magnet attracts a nail because both objects exchange photons.) The graviton is the particle associated with gravity. The strong force is carried by eight particles known as gluons. Finally, the weak force is transmitted by three particles, the W+, the W , and the Z.\n",
      "Number of e: 61\n",
      "\n",
      "Paragraph: 5\n",
      "The behavior of all of these particles and forces is described with impeccable precision by the Standard Model, with one notable exception: gravity. For technical reasons, the gravitational force, the most familiar in our every day lives, has proven very difficult to describe microscopically. This has been for many years one of the most important problems in theoretical physics to formulate a quantum theory of gravity.\n",
      "Number of e: 39\n",
      "\n",
      "Paragraph: 6\n",
      "In the last few decades, string theory has emerged as the most promising candidate for a microscopic theory of gravity. And it is infinitely more ambitious than that: it attempts to provide a complete, unified, and consistent description of the fundamental structure of our universe. (For this reason it is sometimes, quite arrogantly, called a 'Theory of Everything').\n",
      "Number of e: 32\n",
      "\n",
      "Paragraph: 7\n",
      "The essential idea behind string theory is this: all of the different 'fundamental ' particles of the Standard Model are really just different manifestations of one basic object: a string. How can that be? Well, we would ordinarily picture an electron, for instance, as a point with no internal structure. A point cannot do anything but move. But, if string theory is correct, then under an extremely powerful 'microscope' we would realize that the electron is not really a point, but a tiny loop of string. A string can do something aside from moving it can oscillate in different ways. If it oscillates a certain way, then from a distance, unable to tell it is really a string, we see an electron. But if it oscillates some other way, well, then we call it a photon, or a quark, or a ... you get the idea. So, if string theory is correct, the entire world is made of strings!\n",
      "Number of e: 78\n",
      "\n",
      "Paragraph: 8\n",
      "Perhaps the most remarkable thing about string theory is that such a simple idea works it is possible to derive (an extension of) the Standard Model (which has been verified experimentally with incredible precision) from a theory of strings. But it should also be said that, to date, there is no direct experimental evidence that string theory itself is the correct description of Nature. This is mostly due to the fact that string theory is still under development. We know bits and pieces of it, but we do not yet see the whole picture, and we are therefore unable to make definite predictions. In recent years many exciting developments have taken place, radically improving our understanding of what the theory is.\n",
      "Number of e: 82\n",
      "\n",
      "Paragraph: 9\n",
      "If you want to learn more, visit the sites listed below. I also highly recommend the popular science book \"The Elegant Universe: Superstrings, Hidden Dimensions, and the Quest for The Ultimate Theory\" (W. W. Norton & Company, 1999), written by Prof. Brian Greene, a wellestablished string theorist.\n",
      "Number of e: 31\n",
      "\n",
      "Paragraph 8 has maximum number of e's\n"
     ]
    }
   ],
   "source": [
    "import requests,bs4,string\n",
    "fhand=requests.get('https://www.nucleares.unam.mx/~alberto/physics/string.html')\n",
    "soup=bs4.BeautifulSoup(fhand.text,'html.parser')\n",
    "# tags=soup.findAll('span',{'class':'medtxt'})\n",
    "paralst=[]\n",
    "# tags\n",
    "for tdtag in soup.findAll('td',{'width':'500'}):\n",
    "     for ptag in tdtag.findChildren('p'):\n",
    "            paralst=paralst+[spantag.text.replace(' \\n          ',' ').replace('-','').strip('\\xa0') for spantag in ptag.findChildren('span') if len(spantag.text)>50]\n",
    "print('There are',len(paralst),'paragraphs in the provided link')\n",
    "ecntlst=[para.count('e') for para in paralst]\n",
    "for idx in range(0,len(ecntlst)):\n",
    "    print('\\nParagraph:',idx+1)\n",
    "    print(paralst[idx].strip())\n",
    "    print('Number of e'':',paralst[idx].count('e'))\n",
    "print('\\nParagraph',ecntlst.index(max(ecntlst))+1,'has maximum number of e\\'s')\n"
   ]
  },
  {
   "cell_type": "markdown",
   "metadata": {},
   "source": [
    "4.\tFor the XML document given, print its total score. (The total score is calculated by the sum of the score of each element. For any element, the score is equal to the number of attributes it has.):<br>\n",
    "<pre>\n",
    "&lt;feed xml:lang='en'&gt;\n",
    "        &lt;title&gt;HackerRank&lt;/title&gt;\n",
    "        &lt;subtitle lang='en'&gt;Programming challenges&lt;/subtitle&gt;\n",
    "        &lt;link rel='alternate' type='text/html' href='http://hackerrank.com/'/&gt;\n",
    "        &lt;updated&gt;2013-12-25T12:00:00&lt;/updated&gt;\n",
    "        &lt;entry&gt;\n",
    "            &lt;author gender='male'&gt;Harsh&lt;/author&gt;\n",
    "            &lt;question type='hard'&gt;XML 1&lt;/question&gt;\n",
    "            &lt;description type='text'&gt;This is related to XML parsing&lt;/description&gt;\n",
    "        &lt;/entry&gt;\n",
    "&lt;/feed&gt;</pre>\n"
   ]
  },
  {
   "cell_type": "code",
   "execution_count": 265,
   "metadata": {},
   "outputs": [
    {
     "name": "stdout",
     "output_type": "stream",
     "text": [
      "Total Score is: 8\n"
     ]
    }
   ],
   "source": [
    "import xml.etree.ElementTree as ET\n",
    "fhand=open('Question4.xml')\n",
    "xmlTree=ET.fromstring(fhand.read())\n",
    "tot=len(xmlTree.attrib.keys())\n",
    "for x in xmlTree:\n",
    "    tot+=len(x.attrib.keys())\n",
    "    for y in x:\n",
    "        tot+=len(y.attrib.keys())\n",
    "print('Total Score is:',tot)"
   ]
  }
 ],
 "metadata": {
  "kernelspec": {
   "display_name": "Python 3",
   "language": "python",
   "name": "python3"
  },
  "language_info": {
   "codemirror_mode": {
    "name": "ipython",
    "version": 3
   },
   "file_extension": ".py",
   "mimetype": "text/x-python",
   "name": "python",
   "nbconvert_exporter": "python",
   "pygments_lexer": "ipython3",
   "version": "3.7.3"
  }
 },
 "nbformat": 4,
 "nbformat_minor": 2
}
