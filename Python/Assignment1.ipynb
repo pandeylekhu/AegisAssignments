{
 "cells": [
  {
   "cell_type": "markdown",
   "metadata": {},
   "source": [
    "1.\tWrite a function that takes as input a sentence and a word, from the user and counts the occurrences of the word in the sentence. For example: “I felt happy because I saw that others were happy and because I knew I should feel happy, but I wasn’t really happy.” and count the occurrence of the word ‘happy’. Also, replace the word ‘happy’ with ‘sad’ and print the sentence."
   ]
  },
  {
   "cell_type": "code",
   "execution_count": 6,
   "metadata": {
    "scrolled": true
   },
   "outputs": [
    {
     "name": "stdout",
     "output_type": "stream",
     "text": [
      "Enter the complete Sentence: I felt happy because I saw that others were happy and because I knew I should feel happy, but I wasn’t really happy.\n",
      "Enter the word to be counted: happy\n",
      "The Entered Line: \"I felt happy because I saw that others were happy and because I knew I should feel happy, but I wasn’t really happy.\" contains happy 4 number of times.\n",
      "Enter the word to be replaced in place of happy: Sad\n",
      "Changed Line is as below:\n",
      "I felt sad because I saw that others were sad and because I knew I should feel sad, but I wasn’t really sad.\n"
     ]
    }
   ],
   "source": [
    "def WordCount():\n",
    "    Line=input('Enter the complete Sentence: ')\n",
    "    word=input('Enter the word to be counted: ')\n",
    "    print('The Entered Line: \"'+Line+'\" contains '+word,Line.lower().count(word.lower()),'number of times.')\n",
    "    chword=input('Enter the word to be replaced in place of '+word+': ')\n",
    "    print('Changed Line is as below:')\n",
    "    print(Line.replace(word,chword.lower()))\n",
    "\n",
    "WordCount()"
   ]
  },
  {
   "cell_type": "markdown",
   "metadata": {},
   "source": [
    "2.\tWrite a Python program that accepts from the user a value for the number of days and subtracts it from the current date and displays the result."
   ]
  },
  {
   "cell_type": "code",
   "execution_count": 11,
   "metadata": {},
   "outputs": [
    {
     "name": "stdout",
     "output_type": "stream",
     "text": [
      "Enter Number of Days to be subtracted: 8\n",
      "Date before 8 days was 26/12/2018\n"
     ]
    }
   ],
   "source": [
    "import datetime\n",
    "try:\n",
    "    numOfDays=int(input('Enter Number of Days to be subtracted: '))\n",
    "except:\n",
    "    print('ERROR: Type a number',sys.exc_info())\n",
    "    \n",
    "print('Date before',numOfDays,'days was',(datetime.datetime.now()-datetime.timedelta(days=numOfDays)).strftime('%d/%m/%Y') )\n"
   ]
  },
  {
   "cell_type": "markdown",
   "metadata": {},
   "source": [
    "3.\tWrite a Python program to find the numbers which are divisible by 7 and are multiples of 5, between 1500 and 2500 (both included)."
   ]
  },
  {
   "cell_type": "code",
   "execution_count": 24,
   "metadata": {},
   "outputs": [
    {
     "name": "stdout",
     "output_type": "stream",
     "text": [
      "Numbers between 1500 and 2500 both inclusive,which are divisible by 7 and are multiple of 5 are:\n",
      "1505,1540,1575,1610,1645,1680,1715,1750,1785,1820,1855,1890,1925,1960,1995,2030,2065,2100,2135,2170,2205,2240,2275,2310,2345,2380,2415,2450,2485\n"
     ]
    }
   ],
   "source": [
    "listOfNum=''\n",
    "for x in range(1500,2501):\n",
    "    if x%7==0 and x%5==0:\n",
    "        listOfNum+=str(x)+','\n",
    "print('Numbers between 1500 and 2500 both inclusive,'+\n",
    "        'which are divisible by 7 and are multiple of 5 are:\\n'+\n",
    "          listOfNum.strip(','))"
   ]
  },
  {
   "cell_type": "markdown",
   "metadata": {},
   "source": [
    "4.\tWrite a Python function to check whether a given number is a prime number or not. Accept the number from the user."
   ]
  },
  {
   "cell_type": "code",
   "execution_count": 11,
   "metadata": {},
   "outputs": [
    {
     "name": "stdout",
     "output_type": "stream",
     "text": [
      "Enter a number:21\n",
      "21 is Not a Prime Number\n"
     ]
    }
   ],
   "source": [
    "def isPrime(num):\n",
    "    if(num.isdigit()):\n",
    "        num=int(num)\n",
    "        flag=1\n",
    "        if num<2:\n",
    "            flag=0\n",
    "        else:\n",
    "            for no in range(2,num):\n",
    "                if num%no==0:\n",
    "                    flag=0\n",
    "        if flag==1:\n",
    "            print(num,'is a Prime number')\n",
    "        else:\n",
    "            print(num,'is Not a Prime Number')\n",
    "    else:\n",
    "        print(\"Only Number's can be Prime\\nGo and First Clear your basics\")\n",
    "\n",
    "isPrime(input('Enter a number:'))"
   ]
  },
  {
   "cell_type": "markdown",
   "metadata": {},
   "source": [
    "5.\tWrite a Python program to construct the following pattern. Accept the number of lines of the pattern to be printed from the user. For example, the pattern with 6 lines is as follows:\n",
    "\n",
    "<pre>      *</pre>\n",
    "<pre>     ***</pre>\n",
    "<pre>    *****</pre>\n",
    "<pre>   *******</pre>\n",
    "<pre>  *********</pre>\n",
    "<pre> ***********</pre>\n"
   ]
  },
  {
   "cell_type": "code",
   "execution_count": 22,
   "metadata": {},
   "outputs": [
    {
     "name": "stdout",
     "output_type": "stream",
     "text": [
      "Enter the number of Lines to be printed for Pyramid: 10\n",
      "         *\n",
      "        ***\n",
      "       *****\n",
      "      *******\n",
      "     *********\n",
      "    ***********\n",
      "   *************\n",
      "  ***************\n",
      " *****************\n"
     ]
    }
   ],
   "source": [
    "try:\n",
    "    numOfLines=int(input(\"Enter the number of Lines to be printed for Pyramid: \"))\n",
    "except:\n",
    "    print(\"Error: Number bola na re baba\")\n",
    "for x in range(1,numOfLines):\n",
    "    print(' '*(numOfLines-x)+'*'*x+'*'*(x-1))"
   ]
  },
  {
   "cell_type": "markdown",
   "metadata": {},
   "source": [
    "6.\tYou are given the following list:\n",
    "names = [‘Vipin’, 'Sanath', 'Priya', 'Sudhish', 'Akshay', 'Suraj']\n",
    "Using a lambda function, filter those names that start with ‘S’.\n"
   ]
  },
  {
   "cell_type": "code",
   "execution_count": 27,
   "metadata": {},
   "outputs": [
    {
     "name": "stdout",
     "output_type": "stream",
     "text": [
      "['Sanath', 'Sudhish', 'Suraj']\n"
     ]
    }
   ],
   "source": [
    "names = ['Vipin', 'Sanath', 'Priya', 'Sudhish', 'Akshay', 'Suraj']\n",
    "print(list(filter(lambda n:n.upper().startswith('S'),names)))"
   ]
  },
  {
   "cell_type": "markdown",
   "metadata": {},
   "source": [
    "7.\tWrite a function that accepts a positive single digit integer (n) from the user and computes the value of n+nn+nnn.  For example:  if n=5, 5+55+555 = 615 should be displayed."
   ]
  },
  {
   "cell_type": "code",
   "execution_count": 34,
   "metadata": {},
   "outputs": [
    {
     "name": "stdout",
     "output_type": "stream",
     "text": [
      "Enter the number to be calculated: 5\n",
      "Output: 5+55+555=615\n"
     ]
    }
   ],
   "source": [
    "def compute():\n",
    "    num=input(\"Enter the number to be calculated: \")\n",
    "    result=int(num)\n",
    "    output=num\n",
    "    if(num.isdigit()):\n",
    "        for x in range(2,4):\n",
    "            result+=int(num*x)\n",
    "            output+='+'+(num*x)\n",
    "        print('Output:',output+'='+str(result))\n",
    "    else:\n",
    "        print('Enter value should be Digit')\n",
    "\n",
    "compute()"
   ]
  },
  {
   "cell_type": "markdown",
   "metadata": {},
   "source": [
    "8.\tWrite a Python function that takes as input an email address from the user and returns the domain as result."
   ]
  },
  {
   "cell_type": "code",
   "execution_count": 36,
   "metadata": {},
   "outputs": [
    {
     "name": "stdout",
     "output_type": "stream",
     "text": [
      "Enter the email Address: pandey.lekhu@gmail.com\n",
      "Mail Id belongs to, com domain\n"
     ]
    }
   ],
   "source": [
    "def findDomainFromMailID():\n",
    "    email=input(\"Enter the email Address: \")\n",
    "    print('Mail Id belongs to,',email.split('@')[1].split('.')[1],'domain')\n",
    "\n",
    "findDomainFromMailID()"
   ]
  },
  {
   "cell_type": "markdown",
   "metadata": {},
   "source": [
    "9.\tWrite a Python program to get a string made of the first two and the last two characters from a given string. Other conditions as per the sample:\n",
    "\t<pre>Sample String: 'w3resource’\n",
    "\tExpected Result: 'w3ce’\n",
    "\tSample String: 'w3’\n",
    "\tExpected Result: 'w3w3’\n",
    "\tSample String: 'w’\n",
    "\tExpected Result: Empty String</pre>"
   ]
  },
  {
   "cell_type": "code",
   "execution_count": 1,
   "metadata": {},
   "outputs": [
    {
     "name": "stdout",
     "output_type": "stream",
     "text": [
      "Enter the word: hello hi\n",
      "hehi\n"
     ]
    }
   ],
   "source": [
    "word=input(\"Enter the word: \")\n",
    "if len(word)>2:\n",
    "    print(word[:2]+word[-2:])\n",
    "elif len(word)==2:\n",
    "    print(word*2)\n",
    "else:\n",
    "    print('Empty String')\n",
    "    \n",
    "\n"
   ]
  },
  {
   "cell_type": "markdown",
   "metadata": {},
   "source": [
    "10.\tWrite a Python program to add 'ing' at the end of a given string (length of input string should be at least 3). If the given string already ends with 'ing' then add 'ly' instead. If the string length of the given string is less than 3, leave it unchanged.\n",
    "<pre>Sample String: 'abc'\n",
    "Expected Result: 'abcing' \n",
    "Sample String: 'string'\n",
    "Expected Result: 'stringly'</pre>\n"
   ]
  },
  {
   "cell_type": "code",
   "execution_count": 23,
   "metadata": {},
   "outputs": [
    {
     "name": "stdout",
     "output_type": "stream",
     "text": [
      "Enter the word:HI\n",
      "HI\n"
     ]
    }
   ],
   "source": [
    "word=input(\"Enter the word:\")\n",
    "if len(word)>=3:\n",
    "    if word[-3:].lower()=='ing':\n",
    "        word=word+'ly'\n",
    "    else:\n",
    "        word=word+'ing'\n",
    "print(word)"
   ]
  },
  {
   "cell_type": "code",
   "execution_count": null,
   "metadata": {},
   "outputs": [],
   "source": []
  },
  {
   "cell_type": "code",
   "execution_count": null,
   "metadata": {},
   "outputs": [],
   "source": []
  }
 ],
 "metadata": {
  "kernelspec": {
   "display_name": "Python 3",
   "language": "python",
   "name": "python3"
  },
  "language_info": {
   "codemirror_mode": {
    "name": "ipython",
    "version": 3
   },
   "file_extension": ".py",
   "mimetype": "text/x-python",
   "name": "python",
   "nbconvert_exporter": "python",
   "pygments_lexer": "ipython3",
   "version": "3.7.3"
  }
 },
 "nbformat": 4,
 "nbformat_minor": 2
}
